{
 "cells": [
  {
   "cell_type": "code",
   "execution_count": 945,
   "metadata": {
    "tags": []
   },
   "outputs": [
    {
     "output_type": "stream",
     "name": "stdout",
     "text": "showing info https://raw.githubusercontent.com/nltk/nltk_data/gh-pages/index.xml\n"
    }
   ],
   "source": [
    "#import dependencies\n",
    "\n",
    "import nltk\n",
    "import random\n",
    "import numpy as np\n",
    "nltk.download()\n",
    "from nltk.tokenize import sent_tokenize, word_tokenize, casual_tokenize, PunktSentenceTokenizer\n",
    "from nltk.stem import WordNetLemmatizer\n",
    "from nltk.corpus import stopwords\n",
    "import pandas as pd\n",
    "\n",
    "\n"
   ]
  },
  {
   "cell_type": "code",
   "execution_count": 946,
   "metadata": {},
   "outputs": [
    {
     "output_type": "execute_result",
     "data": {
      "text/plain": "{'a',\n 'about',\n 'above',\n 'after',\n 'again',\n 'against',\n 'ain',\n 'all',\n 'am',\n 'an',\n 'and',\n 'any',\n 'are',\n 'aren',\n \"aren't\",\n 'as',\n 'at',\n 'be',\n 'because',\n 'been',\n 'before',\n 'being',\n 'below',\n 'between',\n 'both',\n 'but',\n 'by',\n 'can',\n 'couldn',\n \"couldn't\",\n 'd',\n 'did',\n 'didn',\n \"didn't\",\n 'do',\n 'does',\n 'doesn',\n \"doesn't\",\n 'doing',\n 'don',\n \"don't\",\n 'down',\n 'during',\n 'each',\n 'few',\n 'for',\n 'from',\n 'further',\n 'had',\n 'hadn',\n \"hadn't\",\n 'has',\n 'hasn',\n \"hasn't\",\n 'have',\n 'haven',\n \"haven't\",\n 'having',\n 'he',\n 'her',\n 'here',\n 'hers',\n 'herself',\n 'him',\n 'himself',\n 'his',\n 'how',\n 'i',\n 'if',\n 'in',\n 'into',\n 'is',\n 'isn',\n \"isn't\",\n 'it',\n \"it's\",\n 'its',\n 'itself',\n 'just',\n 'll',\n 'm',\n 'ma',\n 'me',\n 'mightn',\n \"mightn't\",\n 'more',\n 'most',\n 'mustn',\n \"mustn't\",\n 'my',\n 'myself',\n 'needn',\n \"needn't\",\n 'no',\n 'nor',\n 'not',\n 'now',\n 'o',\n 'of',\n 'off',\n 'on',\n 'once',\n 'only',\n 'or',\n 'other',\n 'our',\n 'ours',\n 'ourselves',\n 'out',\n 'over',\n 'own',\n 're',\n 's',\n 'same',\n 'shan',\n \"shan't\",\n 'she',\n \"she's\",\n 'should',\n \"should've\",\n 'shouldn',\n \"shouldn't\",\n 'so',\n 'some',\n 'such',\n 't',\n 'than',\n 'that',\n \"that'll\",\n 'the',\n 'their',\n 'theirs',\n 'them',\n 'themselves',\n 'then',\n 'there',\n 'these',\n 'they',\n 'this',\n 'those',\n 'through',\n 'to',\n 'too',\n 'under',\n 'until',\n 'up',\n 've',\n 'very',\n 'was',\n 'wasn',\n \"wasn't\",\n 'we',\n 'were',\n 'weren',\n \"weren't\",\n 'what',\n 'when',\n 'where',\n 'which',\n 'while',\n 'who',\n 'whom',\n 'why',\n 'will',\n 'with',\n 'won',\n \"won't\",\n 'wouldn',\n \"wouldn't\",\n 'y',\n 'you',\n \"you'd\",\n \"you'll\",\n \"you're\",\n \"you've\",\n 'your',\n 'yours',\n 'yourself',\n 'yourselves'}"
     },
     "metadata": {},
     "execution_count": 946
    }
   ],
   "source": [
    "stop_words = set(stopwords.words(\"english\"))\n",
    "stop_words\n"
   ]
  },
  {
   "cell_type": "code",
   "execution_count": 947,
   "metadata": {},
   "outputs": [],
   "source": [
    "#import training data CSV\n",
    "\n",
    "train_df = pd.read_csv(\"nlp-getting-started/train - hand cleaned.csv\")"
   ]
  },
  {
   "cell_type": "code",
   "execution_count": null,
   "metadata": {},
   "outputs": [],
   "source": []
  },
  {
   "cell_type": "code",
   "execution_count": 948,
   "metadata": {
    "tags": []
   },
   "outputs": [
    {
     "output_type": "stream",
     "name": "stdout",
     "text": "['Theres a fire in the Catalinas.', 'Looks kinda cool.', 'This picture doesnt do it justice.', 'https://t.co/N0tAwGeZJx']\n"
    }
   ],
   "source": [
    "example_text = \"Theres a fire in the Catalinas. Looks kinda cool. This picture doesnt do it justice. https://t.co/N0tAwGeZJx\"\n",
    "\n",
    "print(sent_tokenize(example_text))"
   ]
  },
  {
   "cell_type": "code",
   "execution_count": 949,
   "metadata": {
    "tags": []
   },
   "outputs": [
    {
     "output_type": "stream",
     "name": "stdout",
     "text": "['Theres', 'a', 'fire', 'in', 'the', 'Catalinas', '.', 'Looks', 'kinda', 'cool', '.', 'This', 'picture', 'doesnt', 'do', 'it', 'justice', '.', 'https', ':', '//t.co/N0tAwGeZJx']\n"
    }
   ],
   "source": [
    "print(word_tokenize(example_text))"
   ]
  },
  {
   "cell_type": "code",
   "execution_count": 950,
   "metadata": {
    "tags": []
   },
   "outputs": [
    {
     "output_type": "stream",
     "name": "stdout",
     "text": "Theres\nfire\nCatalinas\n.\nLooks\nkinda\ncool\n.\nThis\npicture\ndoesnt\njustice\n.\nhttps\n:\n//t.co/N0tAwGeZJx\n"
    }
   ],
   "source": [
    "filtered_text = []\n",
    "for element in word_tokenize(example_text):\n",
    "    if element not in stop_words:\n",
    "        print(element)"
   ]
  },
  {
   "cell_type": "code",
   "execution_count": 951,
   "metadata": {},
   "outputs": [
    {
     "output_type": "execute_result",
     "data": {
      "text/plain": "0       Our Deeds are the Reason of this #earthquake M...\n1                  Forest fire near La Ronge Sask. Canada\n2       All residents asked to shelter in place are be...\n3       13,000 people receive #wildfires evacuation or...\n4       Just got sent this photo from Ruby #Alaska as ...\n                              ...                        \n7608    Two giant cranes holding a bridge collapse int...\n7609    @aria_ahrary @TheTawniest The out of control w...\n7610    M1.94 [01:04 UTC]?5km S of Volcano Hawaii. htt...\n7611    Police investigating after an e-bike collided ...\n7612    The Latest: More Homes Razed by Northern Calif...\nName: text, Length: 7613, dtype: object"
     },
     "metadata": {},
     "execution_count": 951
    }
   ],
   "source": [
    "tweet_text = train_df['text']\n",
    "tweet_text"
   ]
  },
  {
   "cell_type": "code",
   "execution_count": 952,
   "metadata": {},
   "outputs": [],
   "source": [
    "# word_tokenize(tweet_text)"
   ]
  },
  {
   "cell_type": "code",
   "execution_count": 953,
   "metadata": {},
   "outputs": [],
   "source": [
    "#Use Pandas and RegEx to copy hashtags, mentions, and urls and store them each in a list in each their separate columns\n",
    "train_df[\"hashtags\"] = train_df['text'].str.findall(r'([#]\\S+)')\n",
    "train_df[\"mentions\"] = train_df['text'].str.findall(r'([@]\\S+)')\n",
    "train_df[\"urls\"] = train_df['text'].str.findall(r'(http:\\/\\/\\S+)')\n",
    "\n",
    "#Effectively deletes mentions and urls with Pandas and Regex by replacing them with an empty string as they are probably not particularly useful in NLP for Tweets\n",
    "train_df[\"text\"] = train_df[\"text\"].str.replace('([@]\\S+)', '', regex=True) #deletes mentions\n",
    "train_df[\"text\"] = train_df[\"text\"].str.replace('((https?:\\/\\/)\\S+)', '', regex=True) #deletes URLs\n",
    "\n",
    "#Replaces the # symbol with an empty space to turn hashtags into regular words\n",
    "train_df[\"text\"] = train_df[\"text\"].str.replace('[#:\\n]', '', regex=True) #deletes the hashtage symbol only\n",
    "\n",
    "#Replaces non ASCII words and symbols like: Â‰Ã›Ã with blank spaces\n",
    "train_df[\"text\"] = train_df[\"text\"].str.replace('[^\\x00-\\x7F]+', '', regex=True) #deletes non English alphabet characters\n",
    "\n"
   ]
  },
  {
   "cell_type": "code",
   "execution_count": 954,
   "metadata": {},
   "outputs": [
    {
     "output_type": "execute_result",
     "data": {
      "text/plain": "0       Our Deeds are the Reason of this earthquake Ma...\n1                  Forest fire near La Ronge Sask. Canada\n2       All residents asked to shelter in place are be...\n3       13,000 people receive wildfires evacuation ord...\n4       Just got sent this photo from Ruby Alaska as s...\n                              ...                        \n7608    Two giant cranes holding a bridge collapse int...\n7609      The out of control wild fires in California ...\n7610           M1.94 [0104 UTC]?5km S of Volcano Hawaii. \n7611    Police investigating after an e-bike collided ...\n7612    The Latest More Homes Razed by Northern Califo...\nName: text, Length: 7613, dtype: object"
     },
     "metadata": {},
     "execution_count": 954
    }
   ],
   "source": [
    "tweet_text"
   ]
  },
  {
   "cell_type": "code",
   "execution_count": 955,
   "metadata": {},
   "outputs": [
    {
     "output_type": "execute_result",
     "data": {
      "text/plain": "    id keyword                       location  \\\n0    1     NaN                            NaN   \n1    4     NaN                            NaN   \n2    5     NaN                            NaN   \n3    6     NaN                            NaN   \n4    7     NaN                            NaN   \n5    8     NaN                            NaN   \n6   10     NaN                            NaN   \n7   13     NaN                            NaN   \n8   14     NaN                            NaN   \n9   15     NaN                            NaN   \n10  16     NaN                            NaN   \n11  17     NaN                            NaN   \n12  18     NaN                            NaN   \n13  19     NaN                            NaN   \n14  20     NaN                            NaN   \n15  23     NaN                            NaN   \n16  24     NaN                            NaN   \n17  25     NaN                            NaN   \n18  26     NaN                            NaN   \n19  28     NaN                            NaN   \n20  31     NaN                            NaN   \n21  32     NaN                            NaN   \n22  33     NaN                            NaN   \n23  34     NaN                            NaN   \n24  36     NaN                            NaN   \n25  37     NaN                            NaN   \n26  38     NaN                            NaN   \n27  39     NaN                            NaN   \n28  40     NaN                            NaN   \n29  41     NaN                            NaN   \n30  44     NaN                            NaN   \n31  48  ablaze                     Birmingham   \n32  49  ablaze  Est. September 2012 - Bristol   \n33  50  ablaze                         AFRICA   \n34  52  ablaze               Philadelphia, PA   \n35  53  ablaze                     London, UK   \n36  54  ablaze                       Pretoria   \n37  55  ablaze                   World Wide!!   \n38  56  ablaze                            NaN   \n39  57  ablaze                 Paranaque City   \n40  59  ablaze                 Live On Webcam   \n41  61  ablaze                            NaN   \n42  62  ablaze                      milky way   \n43  63  ablaze                            NaN   \n44  64  ablaze                            NaN   \n45  65  ablaze                            NaN   \n46  66  ablaze      GREENSBORO,NORTH CAROLINA   \n47  67  ablaze                            NaN   \n48  68  ablaze                 Live On Webcam   \n49  71  ablaze                       England.   \n\n                                                 text  target  \\\n0   Our Deeds are the Reason of this earthquake Ma...       1   \n1              Forest fire near La Ronge Sask. Canada       1   \n2   All residents asked to shelter in place are be...       1   \n3   13,000 people receive wildfires evacuation ord...       1   \n4   Just got sent this photo from Ruby Alaska as s...       1   \n5   RockyFire Update => California Hwy. 20 closed ...       1   \n6   flood disaster Heavy rain causes flash floodin...       1   \n7   Im on top of the hill and I can see a fire in ...       1   \n8   Theres an emergency evacuation happening now i...       1   \n9   Im afraid that the tornado is coming to our ar...       1   \n10        Three people died from the heat wave so far       1   \n11  Haha South Tampa is getting flooded hah- WAIT ...       1   \n12  raining flooding Florida TampaBay Tampa 18 or ...       1   \n13              Flood in Bago Myanmar We arrived Bago       1   \n14  Damage to school bus on 80 in multi car crash ...       1   \n15                                      Whats up man?       0   \n16                                      I love fruits       0   \n17                                   Summer is lovely       0   \n18                                  My car is so fast       0   \n19                       What a goooooooaaaaaal!!!!!!       0   \n20                             this is ridiculous....       0   \n21                                  London is cool ;)       0   \n22                                        Love skiing       0   \n23                              What a wonderful day!       0   \n24                                           LOOOOOOL       0   \n25                      No way...I cant eat that shit       0   \n26                              Was in NYC last week!       0   \n27                                 Love my girlfriend       0   \n28                                           Cooool )       0   \n29                                 Do you like pasta?       0   \n30                                           The end!       0   \n31                          Wholesale Markets ablaze        1   \n32        We always try to bring the heavy. metal RT        0   \n33  AFRICANBAZE Breaking newsNigeria flag set abla...       1   \n34                 Crying out for more! Set me ablaze       0   \n35  On plus side LOOK AT THE SKY LAST NIGHT IT WAS...       0   \n36   mufc theyve built so much hype around new acq...       0   \n37                  INEC Office in Abia Set Ablaze -        1   \n38  Barbados Bridgetown JAMAICA  Two cars set abla...       1   \n39                              Ablaze for you Lord D       0   \n40                           Check these out     nsfw       0   \n41  on the outside youre ablaze and alivebut youre...       0   \n42  Had an awesome time visiting the CFC head offi...       0   \n43                      SOOOO PUMPED FOR ABLAZE ????        0   \n44  I wanted to set Chicago ablaze with my preachi...       0   \n45  I gained 3 followers in the last week. You? Kn...       0   \n46  How the West was burned Thousands of wildfires...       1   \n47  Building the perfect tracklist to life leave t...       0   \n48                           Check these out     nsfw       0   \n49  First night with retainers in. Its quite weird...       0   \n\n                                             hashtags           mentions  \\\n0                                       [#earthquake]                 []   \n1                                                  []                 []   \n2                                                  []                 []   \n3                                        [#wildfires]                 []   \n4                               [#Alaska, #wildfires]                 []   \n5                   [#RockyFire, #CAfire, #wildfires]                 []   \n6                                 [#flood, #disaster]                 []   \n7                                                  []                 []   \n8                                                  []                 []   \n9                                                  []                 []   \n10                                                 []                 []   \n11                                        [#flooding]                 []   \n12  [#raining, #flooding, #Florida, #TampaBay, #Ta...                 []   \n13                                      [#Flood, #We]                 []   \n14                                        [#BREAKING]                 []   \n15                                                 []                 []   \n16                                                 []                 []   \n17                                                 []                 []   \n18                                                 []                 []   \n19                                                 []                 []   \n20                                                 []                 []   \n21                                                 []                 []   \n22                                                 []                 []   \n23                                                 []                 []   \n24                                                 []                 []   \n25                                                 []                 []   \n26                                                 []                 []   \n27                                                 []                 []   \n28                                                 []                 []   \n29                                                 []                 []   \n30                                                 []                 []   \n31                                                 []          [@bbcmtd]   \n32                                      [#metal, #RT]                 []   \n33                                    [#AFRICANBAZE:]                 []   \n34                                                 []                 []   \n35                                                 []                 []   \n36                                            [#mufc]      [@PhDSquares]   \n37                                                 []                 []   \n38                                      [#Bridgetown]                 []   \n39                                                 []                 []   \n40                                            [#nsfw]                 []   \n41                                                 []                 []   \n42                                                 []                 []   \n43                                                 []  [@southridgelife]   \n44                                                 []                 []   \n45                                                 []                 []   \n46                                                 []                 []   \n47                                                 []                 []   \n48                                            [#nsfw]                 []   \n49                                                 []                 []   \n\n                                                 urls  \n0                                                  []  \n1                                                  []  \n2                                                  []  \n3                                                  []  \n4                                                  []  \n5                                                  []  \n6                                                  []  \n7                                                  []  \n8                                                  []  \n9                                                  []  \n10                                                 []  \n11                                                 []  \n12                                                 []  \n13                                                 []  \n14                                                 []  \n15                                                 []  \n16                                                 []  \n17                                                 []  \n18                                                 []  \n19                                                 []  \n20                                                 []  \n21                                                 []  \n22                                                 []  \n23                                                 []  \n24                                                 []  \n25                                                 []  \n26                                                 []  \n27                                                 []  \n28                                                 []  \n29                                                 []  \n30                                                 []  \n31                           [http://t.co/lHYXEOHY6C]  \n32                           [http://t.co/YAo1e0xngw]  \n33                           [http://t.co/2nndBGwyEi]  \n34                                                 []  \n35                           [http://t.co/qqsmshaJ3N]  \n36                                                 []  \n37                           [http://t.co/3ImaomknnA]  \n38                           [http://t.co/wDUEaj8Q4J]  \n39                                                 []  \n40  [http://t.co/rOI2NSmEJJ, http://t.co/3Tj8ZjiN2...  \n41                                                 []  \n42                                                 []  \n43                                                 []  \n44                           [http://t.co/o9qknbfOFX]  \n45                           [http://t.co/TIyUliF5c6]  \n46                           [http://t.co/vl5TBR3wbr]  \n47                                                 []  \n48  [http://t.co/rOI2NSmEJJ, http://t.co/3Tj8ZjiN2...  \n49                                                 []  ",
      "text/html": "<div>\n<style scoped>\n    .dataframe tbody tr th:only-of-type {\n        vertical-align: middle;\n    }\n\n    .dataframe tbody tr th {\n        vertical-align: top;\n    }\n\n    .dataframe thead th {\n        text-align: right;\n    }\n</style>\n<table border=\"1\" class=\"dataframe\">\n  <thead>\n    <tr style=\"text-align: right;\">\n      <th></th>\n      <th>id</th>\n      <th>keyword</th>\n      <th>location</th>\n      <th>text</th>\n      <th>target</th>\n      <th>hashtags</th>\n      <th>mentions</th>\n      <th>urls</th>\n    </tr>\n  </thead>\n  <tbody>\n    <tr>\n      <th>0</th>\n      <td>1</td>\n      <td>NaN</td>\n      <td>NaN</td>\n      <td>Our Deeds are the Reason of this earthquake Ma...</td>\n      <td>1</td>\n      <td>[#earthquake]</td>\n      <td>[]</td>\n      <td>[]</td>\n    </tr>\n    <tr>\n      <th>1</th>\n      <td>4</td>\n      <td>NaN</td>\n      <td>NaN</td>\n      <td>Forest fire near La Ronge Sask. Canada</td>\n      <td>1</td>\n      <td>[]</td>\n      <td>[]</td>\n      <td>[]</td>\n    </tr>\n    <tr>\n      <th>2</th>\n      <td>5</td>\n      <td>NaN</td>\n      <td>NaN</td>\n      <td>All residents asked to shelter in place are be...</td>\n      <td>1</td>\n      <td>[]</td>\n      <td>[]</td>\n      <td>[]</td>\n    </tr>\n    <tr>\n      <th>3</th>\n      <td>6</td>\n      <td>NaN</td>\n      <td>NaN</td>\n      <td>13,000 people receive wildfires evacuation ord...</td>\n      <td>1</td>\n      <td>[#wildfires]</td>\n      <td>[]</td>\n      <td>[]</td>\n    </tr>\n    <tr>\n      <th>4</th>\n      <td>7</td>\n      <td>NaN</td>\n      <td>NaN</td>\n      <td>Just got sent this photo from Ruby Alaska as s...</td>\n      <td>1</td>\n      <td>[#Alaska, #wildfires]</td>\n      <td>[]</td>\n      <td>[]</td>\n    </tr>\n    <tr>\n      <th>5</th>\n      <td>8</td>\n      <td>NaN</td>\n      <td>NaN</td>\n      <td>RockyFire Update =&gt; California Hwy. 20 closed ...</td>\n      <td>1</td>\n      <td>[#RockyFire, #CAfire, #wildfires]</td>\n      <td>[]</td>\n      <td>[]</td>\n    </tr>\n    <tr>\n      <th>6</th>\n      <td>10</td>\n      <td>NaN</td>\n      <td>NaN</td>\n      <td>flood disaster Heavy rain causes flash floodin...</td>\n      <td>1</td>\n      <td>[#flood, #disaster]</td>\n      <td>[]</td>\n      <td>[]</td>\n    </tr>\n    <tr>\n      <th>7</th>\n      <td>13</td>\n      <td>NaN</td>\n      <td>NaN</td>\n      <td>Im on top of the hill and I can see a fire in ...</td>\n      <td>1</td>\n      <td>[]</td>\n      <td>[]</td>\n      <td>[]</td>\n    </tr>\n    <tr>\n      <th>8</th>\n      <td>14</td>\n      <td>NaN</td>\n      <td>NaN</td>\n      <td>Theres an emergency evacuation happening now i...</td>\n      <td>1</td>\n      <td>[]</td>\n      <td>[]</td>\n      <td>[]</td>\n    </tr>\n    <tr>\n      <th>9</th>\n      <td>15</td>\n      <td>NaN</td>\n      <td>NaN</td>\n      <td>Im afraid that the tornado is coming to our ar...</td>\n      <td>1</td>\n      <td>[]</td>\n      <td>[]</td>\n      <td>[]</td>\n    </tr>\n    <tr>\n      <th>10</th>\n      <td>16</td>\n      <td>NaN</td>\n      <td>NaN</td>\n      <td>Three people died from the heat wave so far</td>\n      <td>1</td>\n      <td>[]</td>\n      <td>[]</td>\n      <td>[]</td>\n    </tr>\n    <tr>\n      <th>11</th>\n      <td>17</td>\n      <td>NaN</td>\n      <td>NaN</td>\n      <td>Haha South Tampa is getting flooded hah- WAIT ...</td>\n      <td>1</td>\n      <td>[#flooding]</td>\n      <td>[]</td>\n      <td>[]</td>\n    </tr>\n    <tr>\n      <th>12</th>\n      <td>18</td>\n      <td>NaN</td>\n      <td>NaN</td>\n      <td>raining flooding Florida TampaBay Tampa 18 or ...</td>\n      <td>1</td>\n      <td>[#raining, #flooding, #Florida, #TampaBay, #Ta...</td>\n      <td>[]</td>\n      <td>[]</td>\n    </tr>\n    <tr>\n      <th>13</th>\n      <td>19</td>\n      <td>NaN</td>\n      <td>NaN</td>\n      <td>Flood in Bago Myanmar We arrived Bago</td>\n      <td>1</td>\n      <td>[#Flood, #We]</td>\n      <td>[]</td>\n      <td>[]</td>\n    </tr>\n    <tr>\n      <th>14</th>\n      <td>20</td>\n      <td>NaN</td>\n      <td>NaN</td>\n      <td>Damage to school bus on 80 in multi car crash ...</td>\n      <td>1</td>\n      <td>[#BREAKING]</td>\n      <td>[]</td>\n      <td>[]</td>\n    </tr>\n    <tr>\n      <th>15</th>\n      <td>23</td>\n      <td>NaN</td>\n      <td>NaN</td>\n      <td>Whats up man?</td>\n      <td>0</td>\n      <td>[]</td>\n      <td>[]</td>\n      <td>[]</td>\n    </tr>\n    <tr>\n      <th>16</th>\n      <td>24</td>\n      <td>NaN</td>\n      <td>NaN</td>\n      <td>I love fruits</td>\n      <td>0</td>\n      <td>[]</td>\n      <td>[]</td>\n      <td>[]</td>\n    </tr>\n    <tr>\n      <th>17</th>\n      <td>25</td>\n      <td>NaN</td>\n      <td>NaN</td>\n      <td>Summer is lovely</td>\n      <td>0</td>\n      <td>[]</td>\n      <td>[]</td>\n      <td>[]</td>\n    </tr>\n    <tr>\n      <th>18</th>\n      <td>26</td>\n      <td>NaN</td>\n      <td>NaN</td>\n      <td>My car is so fast</td>\n      <td>0</td>\n      <td>[]</td>\n      <td>[]</td>\n      <td>[]</td>\n    </tr>\n    <tr>\n      <th>19</th>\n      <td>28</td>\n      <td>NaN</td>\n      <td>NaN</td>\n      <td>What a goooooooaaaaaal!!!!!!</td>\n      <td>0</td>\n      <td>[]</td>\n      <td>[]</td>\n      <td>[]</td>\n    </tr>\n    <tr>\n      <th>20</th>\n      <td>31</td>\n      <td>NaN</td>\n      <td>NaN</td>\n      <td>this is ridiculous....</td>\n      <td>0</td>\n      <td>[]</td>\n      <td>[]</td>\n      <td>[]</td>\n    </tr>\n    <tr>\n      <th>21</th>\n      <td>32</td>\n      <td>NaN</td>\n      <td>NaN</td>\n      <td>London is cool ;)</td>\n      <td>0</td>\n      <td>[]</td>\n      <td>[]</td>\n      <td>[]</td>\n    </tr>\n    <tr>\n      <th>22</th>\n      <td>33</td>\n      <td>NaN</td>\n      <td>NaN</td>\n      <td>Love skiing</td>\n      <td>0</td>\n      <td>[]</td>\n      <td>[]</td>\n      <td>[]</td>\n    </tr>\n    <tr>\n      <th>23</th>\n      <td>34</td>\n      <td>NaN</td>\n      <td>NaN</td>\n      <td>What a wonderful day!</td>\n      <td>0</td>\n      <td>[]</td>\n      <td>[]</td>\n      <td>[]</td>\n    </tr>\n    <tr>\n      <th>24</th>\n      <td>36</td>\n      <td>NaN</td>\n      <td>NaN</td>\n      <td>LOOOOOOL</td>\n      <td>0</td>\n      <td>[]</td>\n      <td>[]</td>\n      <td>[]</td>\n    </tr>\n    <tr>\n      <th>25</th>\n      <td>37</td>\n      <td>NaN</td>\n      <td>NaN</td>\n      <td>No way...I cant eat that shit</td>\n      <td>0</td>\n      <td>[]</td>\n      <td>[]</td>\n      <td>[]</td>\n    </tr>\n    <tr>\n      <th>26</th>\n      <td>38</td>\n      <td>NaN</td>\n      <td>NaN</td>\n      <td>Was in NYC last week!</td>\n      <td>0</td>\n      <td>[]</td>\n      <td>[]</td>\n      <td>[]</td>\n    </tr>\n    <tr>\n      <th>27</th>\n      <td>39</td>\n      <td>NaN</td>\n      <td>NaN</td>\n      <td>Love my girlfriend</td>\n      <td>0</td>\n      <td>[]</td>\n      <td>[]</td>\n      <td>[]</td>\n    </tr>\n    <tr>\n      <th>28</th>\n      <td>40</td>\n      <td>NaN</td>\n      <td>NaN</td>\n      <td>Cooool )</td>\n      <td>0</td>\n      <td>[]</td>\n      <td>[]</td>\n      <td>[]</td>\n    </tr>\n    <tr>\n      <th>29</th>\n      <td>41</td>\n      <td>NaN</td>\n      <td>NaN</td>\n      <td>Do you like pasta?</td>\n      <td>0</td>\n      <td>[]</td>\n      <td>[]</td>\n      <td>[]</td>\n    </tr>\n    <tr>\n      <th>30</th>\n      <td>44</td>\n      <td>NaN</td>\n      <td>NaN</td>\n      <td>The end!</td>\n      <td>0</td>\n      <td>[]</td>\n      <td>[]</td>\n      <td>[]</td>\n    </tr>\n    <tr>\n      <th>31</th>\n      <td>48</td>\n      <td>ablaze</td>\n      <td>Birmingham</td>\n      <td>Wholesale Markets ablaze</td>\n      <td>1</td>\n      <td>[]</td>\n      <td>[@bbcmtd]</td>\n      <td>[http://t.co/lHYXEOHY6C]</td>\n    </tr>\n    <tr>\n      <th>32</th>\n      <td>49</td>\n      <td>ablaze</td>\n      <td>Est. September 2012 - Bristol</td>\n      <td>We always try to bring the heavy. metal RT</td>\n      <td>0</td>\n      <td>[#metal, #RT]</td>\n      <td>[]</td>\n      <td>[http://t.co/YAo1e0xngw]</td>\n    </tr>\n    <tr>\n      <th>33</th>\n      <td>50</td>\n      <td>ablaze</td>\n      <td>AFRICA</td>\n      <td>AFRICANBAZE Breaking newsNigeria flag set abla...</td>\n      <td>1</td>\n      <td>[#AFRICANBAZE:]</td>\n      <td>[]</td>\n      <td>[http://t.co/2nndBGwyEi]</td>\n    </tr>\n    <tr>\n      <th>34</th>\n      <td>52</td>\n      <td>ablaze</td>\n      <td>Philadelphia, PA</td>\n      <td>Crying out for more! Set me ablaze</td>\n      <td>0</td>\n      <td>[]</td>\n      <td>[]</td>\n      <td>[]</td>\n    </tr>\n    <tr>\n      <th>35</th>\n      <td>53</td>\n      <td>ablaze</td>\n      <td>London, UK</td>\n      <td>On plus side LOOK AT THE SKY LAST NIGHT IT WAS...</td>\n      <td>0</td>\n      <td>[]</td>\n      <td>[]</td>\n      <td>[http://t.co/qqsmshaJ3N]</td>\n    </tr>\n    <tr>\n      <th>36</th>\n      <td>54</td>\n      <td>ablaze</td>\n      <td>Pretoria</td>\n      <td>mufc theyve built so much hype around new acq...</td>\n      <td>0</td>\n      <td>[#mufc]</td>\n      <td>[@PhDSquares]</td>\n      <td>[]</td>\n    </tr>\n    <tr>\n      <th>37</th>\n      <td>55</td>\n      <td>ablaze</td>\n      <td>World Wide!!</td>\n      <td>INEC Office in Abia Set Ablaze -</td>\n      <td>1</td>\n      <td>[]</td>\n      <td>[]</td>\n      <td>[http://t.co/3ImaomknnA]</td>\n    </tr>\n    <tr>\n      <th>38</th>\n      <td>56</td>\n      <td>ablaze</td>\n      <td>NaN</td>\n      <td>Barbados Bridgetown JAMAICA  Two cars set abla...</td>\n      <td>1</td>\n      <td>[#Bridgetown]</td>\n      <td>[]</td>\n      <td>[http://t.co/wDUEaj8Q4J]</td>\n    </tr>\n    <tr>\n      <th>39</th>\n      <td>57</td>\n      <td>ablaze</td>\n      <td>Paranaque City</td>\n      <td>Ablaze for you Lord D</td>\n      <td>0</td>\n      <td>[]</td>\n      <td>[]</td>\n      <td>[]</td>\n    </tr>\n    <tr>\n      <th>40</th>\n      <td>59</td>\n      <td>ablaze</td>\n      <td>Live On Webcam</td>\n      <td>Check these out     nsfw</td>\n      <td>0</td>\n      <td>[#nsfw]</td>\n      <td>[]</td>\n      <td>[http://t.co/rOI2NSmEJJ, http://t.co/3Tj8ZjiN2...</td>\n    </tr>\n    <tr>\n      <th>41</th>\n      <td>61</td>\n      <td>ablaze</td>\n      <td>NaN</td>\n      <td>on the outside youre ablaze and alivebut youre...</td>\n      <td>0</td>\n      <td>[]</td>\n      <td>[]</td>\n      <td>[]</td>\n    </tr>\n    <tr>\n      <th>42</th>\n      <td>62</td>\n      <td>ablaze</td>\n      <td>milky way</td>\n      <td>Had an awesome time visiting the CFC head offi...</td>\n      <td>0</td>\n      <td>[]</td>\n      <td>[]</td>\n      <td>[]</td>\n    </tr>\n    <tr>\n      <th>43</th>\n      <td>63</td>\n      <td>ablaze</td>\n      <td>NaN</td>\n      <td>SOOOO PUMPED FOR ABLAZE ????</td>\n      <td>0</td>\n      <td>[]</td>\n      <td>[@southridgelife]</td>\n      <td>[]</td>\n    </tr>\n    <tr>\n      <th>44</th>\n      <td>64</td>\n      <td>ablaze</td>\n      <td>NaN</td>\n      <td>I wanted to set Chicago ablaze with my preachi...</td>\n      <td>0</td>\n      <td>[]</td>\n      <td>[]</td>\n      <td>[http://t.co/o9qknbfOFX]</td>\n    </tr>\n    <tr>\n      <th>45</th>\n      <td>65</td>\n      <td>ablaze</td>\n      <td>NaN</td>\n      <td>I gained 3 followers in the last week. You? Kn...</td>\n      <td>0</td>\n      <td>[]</td>\n      <td>[]</td>\n      <td>[http://t.co/TIyUliF5c6]</td>\n    </tr>\n    <tr>\n      <th>46</th>\n      <td>66</td>\n      <td>ablaze</td>\n      <td>GREENSBORO,NORTH CAROLINA</td>\n      <td>How the West was burned Thousands of wildfires...</td>\n      <td>1</td>\n      <td>[]</td>\n      <td>[]</td>\n      <td>[http://t.co/vl5TBR3wbr]</td>\n    </tr>\n    <tr>\n      <th>47</th>\n      <td>67</td>\n      <td>ablaze</td>\n      <td>NaN</td>\n      <td>Building the perfect tracklist to life leave t...</td>\n      <td>0</td>\n      <td>[]</td>\n      <td>[]</td>\n      <td>[]</td>\n    </tr>\n    <tr>\n      <th>48</th>\n      <td>68</td>\n      <td>ablaze</td>\n      <td>Live On Webcam</td>\n      <td>Check these out     nsfw</td>\n      <td>0</td>\n      <td>[#nsfw]</td>\n      <td>[]</td>\n      <td>[http://t.co/rOI2NSmEJJ, http://t.co/3Tj8ZjiN2...</td>\n    </tr>\n    <tr>\n      <th>49</th>\n      <td>71</td>\n      <td>ablaze</td>\n      <td>England.</td>\n      <td>First night with retainers in. Its quite weird...</td>\n      <td>0</td>\n      <td>[]</td>\n      <td>[]</td>\n      <td>[]</td>\n    </tr>\n  </tbody>\n</table>\n</div>"
     },
     "metadata": {},
     "execution_count": 955
    }
   ],
   "source": [
    "train_df.head(50)"
   ]
  },
  {
   "cell_type": "code",
   "execution_count": 956,
   "metadata": {},
   "outputs": [
    {
     "output_type": "execute_result",
     "data": {
      "text/plain": "id                                                        144\nkeyword                                              accident\nlocation                                                   UK\ntext        . Bahrain police had previously died in a road...\ntarget                                                      1\nhashtags                                           [#Bahrain]\nmentions                                         [@NorwayMFA]\nurls                                                       []\nName: 100, dtype: object"
     },
     "metadata": {},
     "execution_count": 956
    }
   ],
   "source": [
    "#reference\n",
    "train_df.iloc[100,:]"
   ]
  },
  {
   "cell_type": "code",
   "execution_count": 957,
   "metadata": {},
   "outputs": [],
   "source": [
    "test_tweet_46 = word_tokenize(tweet_text[46])"
   ]
  },
  {
   "cell_type": "code",
   "execution_count": 958,
   "metadata": {
    "tags": []
   },
   "outputs": [
    {
     "output_type": "stream",
     "name": "stdout",
     "text": "(S How/WRB)\n(S the/DT)\n(S (GPE West/NNP))\n(S was/VBD)\n(S burned/VBN)\n(S Thousands/NNS)\n(S of/IN)\n(S wildfires/NNS)\n(S ablaze/NN)\n(S in/IN)\n(S (GPE California/NNP))\n(S alone/RB)\n"
    }
   ],
   "source": [
    "for element in word_tokenize(train_df['text'][46]):\n",
    "    print(nltk.ne_chunk(nltk.pos_tag([element])))\n",
    "    # print(nltk.ne_chunk([element]))"
   ]
  },
  {
   "cell_type": "code",
   "execution_count": 959,
   "metadata": {},
   "outputs": [
    {
     "output_type": "execute_result",
     "data": {
      "text/plain": "id                                                         66\nkeyword                                                ablaze\nlocation                            GREENSBORO,NORTH CAROLINA\ntext        How the West was burned Thousands of wildfires...\ntarget                                                      1\nhashtags                                                   []\nmentions                                                   []\nurls                                 [http://t.co/vl5TBR3wbr]\nName: 46, dtype: object"
     },
     "metadata": {},
     "execution_count": 959
    }
   ],
   "source": [
    "train_df.iloc[46,:]"
   ]
  },
  {
   "cell_type": "code",
   "execution_count": 960,
   "metadata": {
    "tags": []
   },
   "outputs": [
    {
     "output_type": "stream",
     "name": "stdout",
     "text": "bad\n"
    }
   ],
   "source": [
    "lemmatizer = WordNetLemmatizer()\n",
    "print(lemmatizer.lemmatize(\"worse\", pos = \"a\"))\n"
   ]
  },
  {
   "cell_type": "code",
   "execution_count": 961,
   "metadata": {
    "tags": [
     "outputPrepend"
    ]
   },
   "outputs": [
    {
     "output_type": "stream",
     "name": "stdout",
     "text": "m', 'those', '/friggin/', 'icicle', 'projectiles', 'and', 'leg', 'from', 'various', 'other', 'wounds', 'the', 'girl', 'looks', 'like', 'a', 'miniature', 'more'], 1), (['Explosion', 'in', 'Gaza', 'Strip', 'kills', 'four', 'wounds', '30', ';', 'cause', 'unknown', 'via'], 1), (['Im', 'not', 'sure', 'that', 'covering', 'my', 'head', 'in', 'wounds', 'and', 'scabs', 'is', 'the', 'solution', ';', ')'], 0), (['-', 'Man', 'gently', 'dabbed', 'the', 'cotton', 'rag', 'across', 'each', 'one', 'of', 'his', 'wounds', ';', 'the', 'pain', 'a', 'lot', 'more', 'worse', 'than', 'Glenn', 'had', 'ever', '-'], 0), (['Crawling', 'in', 'my', 'skinThese', 'wounds', 'they', 'will', 'not', 'hea'], 1), (['Driver', 'rams', 'car', 'into', 'Israeli', 'soldiers', 'wounds', '3', 'military', 'A', 'driver', 'rammed', 'a', 'car', 'into', 'a', 'group', 'of', 'Israeli', 'soldi', '...'], 1), (['Sorrower', '-', 'Fresh', 'Wounds', 'Over', 'Old', 'Scars', '(', '2015', 'Death', 'Metal', ')'], 1), (['ME', 'says', 'many', 'of', 'these', 'wounds', 'could', 'be', 'fatal', 'some', 'rather', 'quickly', 'others', 'slower', 'and', 'a', 'couple', 'not', 'lethal', 'at', 'all', '.', 'KerrickTrial'], 0), (['just', 'hangin', 'out', 'in', 'star', 'buck', 'watchin', 'my', 'boy', 'wreck', 'this', 'septic', 'tank'], 0), (['car', 'wreck', '?', '?'], 1), (['I', 'am', 'a', 'wreck'], 0), (['Season', '3', 'of', 'New', 'Girl', 'was', 'such', 'a', 'emotional', 'train', 'wreck', 'I', 'just', 'wanted', 'to', 'cry', 'laugh', 'and', 'eat', 'a', 'lot', 'of', 'ice', 'cream'], 0), (['wreck', '?', 'wreck', 'wreck', 'wreck', 'wreck', 'wreck', 'wreck', 'wreck', 'wreck', 'wreck', 'wreck', 'wreck', 'wreck', '?'], 0), (['Did', 'I', 'drink', 'too', 'much', '?', 'Am', 'I', 'losing', 'touch', '?', 'Did', 'I', 'build', 'a', 'ship', 'to', 'wreck', '?'], 0), (['Im', 'a', 'friggin', 'wreck', 'destiel', 'sucks', '(', 'read', 'the', 'vine', 'description', ')'], 0), (['Watertown', 'Gazette', 'owner', 'charged', 'in', 'wreck'], 1), (['How', 'many', 'cars', 'do', 'those', 'cyclists', 'wreck', 'going', 'past', 'scratching', 'with', 'pedals', '.', 'They', 'should', 'be', 'banned', 'c4news'], 0), (['LARGE', 'SHIP', 'WRECK', 'FISH', 'TANK', 'ORNAMENT', 'FOR', 'SALE', 'LARGE', 'SHIP', 'WRECK', 'FISH', 'TANK', 'AQUA', '...'], 0), (['But', 'the', 'design', 'decision', 'to', 'Lets', 'make', 'something', 'fresh', 'and', 'beautiful', 'and', 'wonderful', 'and', 'then', 'WRECK', 'IT', 'is', 'kindof', 'odd', 'in', 'restrospect'], 0), (['why', 'did', 'they', 'have', 'to', 'wreck', 'it', 'with', 'ON', 'SALE', 'HERE', ';', '-', ';'], 0), (['Ranking', 'artectura', 'pop2015', 'N36', 'Florence', '+', 'The', 'Machine', '-', 'Ship', 'To', 'Wreck', 'music', 'playlist', 'YouTube'], 0), (['the', 'sunset', 'boys', 'wreck', 'my', 'bed', 'original', '1979', 'usa', 'gimp', 'label', 'vinyl', '7', '45', 'newave'], 1), (['Trump', 'debate', 'will', 'be', 'most', 'highly', 'watched', 'show', 'tonight', 'even', 'among', 'progressives', '.', 'I', 'too', 'will', 'watch', 'hoping', 'for', 'a', 'spectacular', 'flaming', 'wreck', '.'], 0), (['Anyone', 'know', 'if', 'Fox', 'News', 'will', 'be', 'live-streaming', 'tonights', 'Republican', 'debate', 'online', '?', 'I', 'want', 'to', 'watch', 'the', 'train', 'wreck', '.'], 0), (['have', 'my', 'uncles', 'wreck', 'their', 'shit'], 0), (['First', 'wreck', 'today', '.', 'So', 'so', 'glad', 'me', 'and', 'mom', 'are', 'okay', '.', 'Couldve', 'been', 'a', 'lot', 'worse', '.', 'So', 'happy', 'the', 'lord', 'was', 'with', 'us', 'today', '?', '?', '?', '?', '?', '?'], 0), (['Im', 'an', 'emotional', 'wreck', 'right', 'now', '.'], 0), (['My', 'emotions', 'are', 'a', 'train', 'wreck', '.', 'My', 'body', 'is', 'a', 'train', 'wreck', '.', 'Im', 'a', 'wreck'], 0), (['act', 'my', 'age', 'was', 'a', 'MESS', 'everyone', 'was', 'so', 'wild', 'it', 'was', 'so', 'fun', 'my', 'videos', 'a', 'wreck'], 0), (['and', 'The', 'Wreck', 'of', 'the', 'Edmund', 'Fitzgerald'], 1), (['GOP', 'debate', 'drinking', 'game', '.', 'For', 'anyone', 'looking', 'for', 'a', 'bit', 'of', 'fun', 'while', 'watching', 'this', 'train', 'wreck', '.'], 0), (['Wreck', 'with', 'road', 'blockage', 'Woodward', 'Avenue', 'Northbound', 'at', 'Davison', 'in', 'M.S', '.', 'shoalstraffic'], 1), (['Got', 'in', 'a', 'car', 'wreck', '.', 'The', 'car', 'in', 'front', 'of', 'me', 'didnt', 'put', 'their', 'blinker', 'on', '-', ')', ')', ')', 'but', 'it', 'really', 'does', 'feel', 'great', 'outside', 'so', 'lol'], 0), (['Dont', 'think', 'I', 'Can', 'take', 'anymore', 'emotional', 'wreck', 'watching', 'SummerFate'], 0), (['The', 'court', 'system', 'is', 'truly', 'broken', 'indeed', '!', 'But', 'then', 'its', 'no', 'surprise', 'based', 'on', 'who', 'its', 'run', 'by', '!'], 0), (['Greer', 'man', 'dies', 'in', 'wreck'], 1), (['AmazonDeals', 'Skylanders', 'Trap', 'Team', 'Flip', 'Wreck', 'Character', 'Pack', '-', 'down', '4.53', '%', '(', '$', '0.45', ')', 'to', '$', '9.49', 'from', '$', '9.94', 'Sale'], 0), (['A', 'staged', 'locomotive', 'wreck', 'what', 'could', 'possibly', 'go', 'wrong', '?'], 0), (['i', 'still', 'dont', 'see', 'the', 'point', 'of', 'a', 'frozen', 'sequel', 'like', 'wheres', 'the', 'wreck', 'it', 'ralph', 'sequel'], 0), (['I', 'still', 'need', 'to', 'finish', 'the', 'lover', 'but', 'Im', 'watching', 'this', 'other', 'drama', 'for', '8', 'hours', 'now', 'and', 'Im', 'an', 'emotional', 'wreck', 'so', 'the', 'lover', 'needs', 'to', 'wait'], 0), (['Omg', 'if', 'Cain', 'dies', 'i', 'will', 'be', 'an', 'emotional', 'wreck', 'emmerdale'], 1), (['The', 'Loretta', 'Lynch', 'one', 'was', 'fuckin', 'HI-LARIOUS', 'to', 'watch', 'in', 'realtime', '.', 'It', 'was', 'like', 'a', 'train', 'wreck', 'of', 'fact-checking', 'and', 'ombudsmanship', '.'], 0), (['lol', '...', 'Im', 'just', 'a', 'nervous', 'wreck', 'P'], 0), (['Amazon', 'Prime', 'Day', '12', 'quick', 'takeaways', 'from', 'Amazons', 'magnificent', 'train', 'wreck', '-'], 0), (['Im', 'an', 'emotional', 'wreck', 'watching', 'emmerdale'], 0), (['Wreckage', 'Conclusively', 'Confirmed', 'as', 'From', 'MH370', 'Malaysia', 'PM', 'Investigators', 'and', 'the', 'families', 'of', 'those', 'who', 'were', '...'], 1), (['Wreckage', 'Confirmed', 'As', 'Part', 'of', 'Missing', 'Malaysia', 'Airlines', 'Flight', 'MH370', '(', 'VICE', 'News', ')'], 1), (['Wreckage', 'Conclusively', 'Confirmed', 'as', 'From', 'MH370', 'Malaysia', 'PM', 'Investigators', 'and', 'the', 'families', 'of', 'those', 'who', 'were', '...'], 1), (['MH370', 'victims', 'family', 'furious', 'the', 'media', 'was', 'told', 'about', 'wreckage', 'confirmation', 'first'], 1), (['Wreckage', 'Conclusively', 'Confirmed', 'as', 'From', 'MH370', 'Malaysia', 'PM', 'Investigators', 'and', 'the', 'families', 'of', 'those', 'who', 'were', '...'], 1), (['Australia', 'News', ';', 'RT', 'janeenorman', 'High', 'probability', 'aircraft', 'wreckage', 'is', 'from', 'MH370', 'according', 'to', 'Deputy', 'Prime', '_'], 1), (['Wreckage', 'Conclusively', 'Confirmed', 'as', 'From', 'MH370', 'Malaysia', 'PM', 'Investigators', 'and', 'the', 'families', 'of', 'those', 'who', 'were', '...'], 1), (['Wreckage', 'Conclusively', 'Confirmed', 'as', 'From', 'MH370', 'Malaysia', 'PM', 'Investigators', 'and', 'the', 'families', 'of', 'those', 'who', 'were', '...'], 1), (['KUALA', 'LUMPUR', '(', 'Reuters', ')', '-', 'A', 'piece', 'of', 'a', 'wing', 'that', 'washed', 'up', 'on', 'an', 'Indian', 'Ocean', 'island', 'beach', 'last', 'week', 'was', 'part', 'of', 'the', 'wreckage', 'of', 'Malaysian', 'A'], 1), (['science', 'Now', 'that', 'a', 'piece', 'of', 'wreckage', 'from', 'flight', 'MH370', 'has', 'been', 'confirmed', 'on', 'Runion', 'Island', 'is', 'it', 'possible', 't', '...'], 1), (['Malaysia', 'PM', 'confirms', 'wreckage', 'belongs', 'to', 'MH370'], 1), (['Wreckage', 'Conclusively', 'Confirmed', 'as', 'From', 'MH370', 'Malaysia', 'PM', 'Investigators', 'and', 'the', 'families', 'of', 'those', 'who', 'were', '...'], 1), (['Wreckage', 'Conclusively', 'Confirmed', 'as', 'From', 'MH370', 'Malaysia', 'PM', 'Investigators', 'and', 'the', 'families', 'of', 'those', 'who', 'were', '...'], 1), (['CIA', 'plot', '!', '*', 'rolling', 'eyes', '*', 'RT', 'Chinese', 'relatives', 'of', 'MH370', 'victims', 'say', 'reunion', 'island', 'wreckage', 'was', 'planted'], 1), (['Wreckage', 'Conclusively', 'Confirmed', 'as', 'From', 'MH370', 'Malaysia', 'PM', 'Investigators', 'and', 'the', 'families', 'of', 'those', 'who', 'were', '...'], 1), (['Wreckage', 'Conclusively', 'Confirmed', 'as', 'From', 'MH370', 'Malaysia', 'PM', 'Investigators', 'and', 'the', 'families', 'of', 'those', 'who', 'were', '...'], 1), (['Wreckage', 'Conclusively', 'Confirmed', 'as', 'From', 'MH370', 'Malaysia', 'PM'], 1), (['Related', 'News', 'Plane', 'Wreckage', 'Found', 'Is', 'Part', 'Of', 'Missing', 'MH370', 'Malaysia', 'Prime', 'Minister', '?', 'Says', '-', 'World', '-', 'BuzzFeed', '|'], 1), (['Malaysian', 'prime', 'minister', 'says', 'Reunion', 'Island', 'wreckage', 'is', 'from', 'MH370', 'via'], 1), (['Wreckage', 'Conclusively', 'Confirmed', 'as', 'From', 'MH370', 'Malaysia', 'PM', 'Investigators', 'and', 'the', 'families', 'of', 'those', 'who', 'were', '...'], 1), (['The', 'first', 'piece', 'of', 'wreckage', 'from', 'the', 'first-ever', 'lost', 'Boeing', '777', 'which', 'vanished', 'back', 'in', 'early', 'March', 'along', 'with', 'the', '239', 'people', 'on', 'board', 'has'], 1), (['Wreckage', 'Conclusively', 'Confirmed', 'as', 'From', 'MH370', 'Malaysia', 'PM', 'Investigators', 'and', 'the', 'families', 'of', 'those', 'who', 'were', '...'], 1), (['science', 'Now', 'that', 'a', 'piece', 'of', 'wreckage', 'from', 'flight', 'MH370', 'has', 'been', 'confirmed', 'on', 'Runion', 'Island', 'is', 'it', 'possible', 't', '...'], 1), (['Wreckage', 'Conclusively', 'Confirmed', 'as', 'From', 'MH370', 'Malaysia', 'PM', 'Investigators', 'and', 'the', 'families', 'of', 'those', 'who', 'were', '...'], 1), (['Wreckage', 'Conclusively', 'Confirmed', 'as', 'From', 'MH370', 'Malaysia', 'PM', 'Investigators', 'and', 'the', 'families', 'of', 'those', 'who', 'were', '...'], 1), (['Wreckage', 'is', 'MH370', 'Najib', 'MH370', 'najibrazak', 'MalaysiaAirlines'], 1), (['Check', 'out', 'Malaysia', 'Confirms', 'Plane', 'Wreckage', 'Is', 'From', 'Flight', 'MH370', 'at'], 1), (['science', 'Now', 'that', 'a', 'piece', 'of', 'wreckage', 'from', 'flight', 'MH370', 'has', 'been', 'confirmed', 'on', 'Runion', 'Island', 'is', 'it', 'possible', 't', '...'], 1), (['Wreckage', 'Conclusively', 'Confirmed', 'as', 'From', 'MH370', 'Malaysia', 'PM'], 1), (['Wreckage', 'Conclusively', 'Confirmed', 'as', 'From', 'MH370', 'Malaysia', 'PM', 'Investigators', 'and', 'the', 'families', 'of', 'those', 'who', 'were', '...'], 1), (['Wreckage', 'conclusively', 'confirmed', 'as', 'from', 'MH370', 'Malaysia', 'PM', '|'], 1), (['Wreckage', 'Conclusively', 'Confirmed', 'as', 'From', 'MH370', 'Malaysia', 'PM', 'Investigators', 'and', 'the', 'families', 'of', 'those', 'who', 'were', '...'], 1), (['Wreckage', 'Conclusively', 'Confirmed', 'as', 'From', 'MH370', 'Malaysia', 'PM'], 1), (['Wreckage', 'Conclusively', 'Confirmed', 'as', 'From', 'MH370', 'Malaysia', 'PM', 'Investigators', 'and', 'the', 'families', 'of', 'those', 'who', 'were', '...'], 1), (['Wreckage', 'Conclusively', 'Confirmed', 'as', 'From', 'MH370', 'Malaysia', 'PM', 'Investigators', 'and', 'the', 'families', 'of', 'those', 'who', 'were', '...'], 1), (['Wreckage', 'Conclusively', 'Confirmed', 'as', 'From', 'MH370', 'Malaysia', 'PM', 'Investigators', 'and', 'the', 'families', 'of', 'those', 'who', 'were', '...'], 1), (['Wreckage', 'Conclusively', 'Confirmed', 'as', 'From', 'MH370', 'Malaysia', 'PM', 'Investigators', 'and', 'the', 'families', 'of', 'those', 'who', 'were', '...'], 1), (['Wreckage', 'conclusively', 'confirmed', 'as', 'from', 'missing', 'flight', 'MH370', 'via'], 1), (['Wreckage', 'Conclusively', 'Confirmed', 'as', 'From', 'MH370', 'Malaysia', 'PM', 'Investigators', 'and', 'the', 'families', 'of', 'those', 'who', 'were', '...'], 1), (['Wrecked', 'an', 'hour', 'on', 'YouTube', 'with', '&', 'amp', ';', 'and', 'now', 'its', 'practice', 'time', 'again', '.'], 0), (['late', 'night', 'mcdonalds', 'with', 'friends', '=', 'hilarious', 'although', 'my', 'car', 'is', 'wrecked', 'and', 'theres', 'half', 'a', 'steak', 'pastie', 'in', 'the', 'industrial', 'estate'], 0), (['good', 'luck', 'to', 'everyone', 'who', 'has', 'school', 'soon', 'but', 'your', 'sleeping', 'schedule', 'is', 'wrecked', 'beyond', 'repair'], 0), (['I', 'wonder', 'how', 'times', 'someone', 'has', 'wrecked', 'trying', 'to', 'do', 'the', 'stare', 'and', 'drive', 'move', 'from', '2', 'Fast', '2', 'Furious'], 0), (['Four', 'hundred', 'wrecked', 'cars', '(', 'costing', '$', '100', 'apiece', ')', 'were', 'purchased', 'for', 'the', 'making', 'of', 'this', '1986', 'film', '-'], 0), (['Cramer', 'Igers', '3', 'words', 'that', 'wrecked', 'Disneys', 'stock', 'CNBC'], 0), (['Poor', 'Liv', 'and', 'I', 'getting', 'our', 'phones', 'wrecked', 'on', 'the', 'same', 'day', 'thatswhatfriendsarefor'], 0), (['On', 'the', 'freeway', 'to', 'Africa', 'til', 'I', 'wrecked', 'my', 'Audi'], 0), (['Israel', 'wrecked', 'my', 'home', '.', 'Now', 'it', 'wants', 'my', 'land', '.'], 1), (['news', 'Cramer', 'Igers', '3', 'words', 'that', 'wrecked', 'Disneys', 'stock', 'til_now', 'CNBC'], 0), (['James', 'Kunstler', 'How', 'bad', 'architecture', 'wrecked', 'cities', 'residualincome', 'mlm'], 0), (['Igers', '3', 'words', 'that', 'wrecked', 'Disneys', 'stock'], 0), (['The', 'Twitter', 'update', 'pretty', 'much', 'wrecked', 'the', 'app'], 0), (['You', 'wrecked', 'me', '.', 'Never', 'felt', 'so', 'low', 'in', 'my', 'life', '.', 'But', 'its', 'okay', 'God', 'got', 'me'], 0), (['coleslaw', 'wrecked'], 0), (['300K', 'exotic', 'car', 'wrecked', 'in', 'train', 'accident'], 1), (['The', 'twins', 'pitchers', 'ego', 'is', 'now', 'WRECKED'], 0), (['lol', '.', 'U', 'got', 'wrecked'], 0), (['you', 'wrecked', 'my', 'whole', 'world'], 0), (['I', 'wrecked', 'my', 'stomach', 'help'], 0), (['he', 'not', 'gon', 'na', 'be', 'thinking', 'that', 'when', 'he', 'gets', 'his', 'shit', 'wrecked', 'on', 'the', 'first', 'day', 'of', 'school', '?', '?'], 0), (['Wrecked', 'tired', 'but', 'not', 'gon', 'na', 'be', 'asleep', 'before', '3', '?', '?'], 0), (['Cramer', 'Igers', '3', 'words', 'that', 'wrecked', 'Disneys', 'stock'], 0), (['Wrecked', 'emotions', '.'], 0), (['The', 'Riddler', 'would', 'be', 'the', 'best', 'early-exit', 'primary', 'presidential', 'wannabe', 'ever', 'all', 'certain', 'of', 'his', 'chances', 'until', 'he', 'gets', 'wrecked', 'by', 'a', 'rich', 'guy'], 0), (['Thats', 'beyond', 'adorable', '.', 'I', 'hope', 'it', 'wont', 'be', 'wrecked', 'now', 'that', 'its', 'been', 'noticed', '...'], 0), (['Cramer', 'Igers', '3', 'words', 'that', 'wrecked', 'Disneys', 'stock', 'cnbc', 'topnews'], 0), (['see', 'U', 'the', 'night', 'wee', 'bArra', 'to', 'get', 'absolutely', 'wrecked', '?', '?', '?', '?'], 0), (['Did', 'you', 'get', 'wrecked', 'again', '?'], 1), (['Had', 'an', 'awesome', 'time', 'gettin', 'wrecked', 'at', 'bowling', 'last', 'night', '!'], 0), (['Cramer', '3', 'words', 'that', 'wrecked', 'DIS', 'stock', '-'], 0), (['On', 'the', 'bright', 'side', 'I', 'wrecked'], 0), (['He', 'just', 'wrecked', 'all', 'of', 'you'], 0), (['...', 'Hes', 'gone', '.', 'You', 'can', 'relax', '.', 'I', 'thought', 'the', 'wife', 'who', 'wrecked', 'her', 'cake', 'was', 'a', 'goner', 'mind', 'lol', 'whoops'], 0), (['and', 'I', 'wrecked', 'you', 'both'], 0), (['Three', 'days', 'off', 'from', 'work', 'and', 'theyve', 'pretty', 'much', 'all', 'been', 'wrecked', 'hahaha', 'shoutout', 'to', 'my', 'family', 'for', 'that', 'one'], 0), (['FX', 'forex', 'trading', 'Cramer', 'Igers', '3', 'words', 'that', 'wrecked', 'Disneys', 'stock'], 0), (['Great', 'atmosphere', 'at', 'the', 'British', 'Lion', 'gig', 'tonight', '.', 'Hearing', 'is', 'wrecked', '.'], 0), (['Cramer', 'Igers', '3', 'words', 'that', 'wrecked', 'Disneys', 'stock', '-', 'CNBC'], 0), (['Pic', 'of', '16yr', 'old', 'PKK', 'suicide', 'bomber', 'who', 'detonated', 'bomb', 'in', 'Turkey', 'Army', 'trench', 'released'], 1), (['These', 'boxes', 'are', 'ready', 'to', 'explode', '!', 'Exploding', 'Kittens', 'finally', 'arrived', '!', 'gameofkittens', 'explodingkittens_'], 0), (['Calgary', 'Police', 'Flood', 'Road', 'Closures', 'in', 'Calgary', '.'], 1), (['Sismo', 'DETECTADO', 'Jap_n', '154107', 'Seismic', 'intensity', '0', 'Iwate', 'Miyagi', 'JST', '?', '?'], 1), (['Sirens', 'everywhere', '!'], 0), (['BREAKING', 'ISIS', 'claims', 'responsibility', 'for', 'mosque', 'attack', 'in', 'Saudi', 'Arabia', 'that', 'killed', '13'], 1), (['Omg', 'earthquake'], 1), (['SEVERE', 'WEATHER', 'BULLETIN', 'No', '.', '5', 'FOR', 'TYPHOON', 'HannaPH', '(', 'SOUDELOR', ')', 'TROPICAL', 'CYCLONE', 'WARNING', 'ISSUED', 'AT', '500', 'PM', '06', '...', '_'], 1), (['Heat', 'wave', 'warning', 'aa', '?', 'Ayyo', 'dei', '.', 'Just', 'when', 'I', 'plan', 'to', 'visit', 'friends', 'after', 'a', 'year', '.'], 1), (['An', 'IS', 'group', 'suicide', 'bomber', 'detonated', 'an', 'explosives-packed', 'vest', 'in', 'a', 'mosque', 'inside', 'a', 'Saudi', 'special', 'forces', 'headquarters', 'killing', '15', 'people', '.'], 1), (['I', 'just', 'heard', 'a', 'really', 'loud', 'bang', 'and', 'everyone', 'is', 'asleep', 'great'], 0), (['A', 'gas', 'thing', 'just', 'exploded', 'and', 'I', 'heard', 'screams', 'and', 'now', 'the', 'whole', 'street', 'smells', 'of', 'gas', '...', '?', '?'], 1), (['NWS', 'Flash', 'Flood', 'Warning', 'Continued', 'for', 'Shelby', 'County', 'until', '0800', 'PM', 'Wednesday', '.', 'tnwx'], 1), (['RT', 'NWS', 'issues', 'Severe', 'Thunderstorm', 'Warnings', 'for', 'parts', 'of', 'AR', 'NC', 'OK.', 'Expect', 'more', 'trauma', 'cases'], 1), (['?', '?', '?', '?', '?', '?', '?', '?', '?', '?', '?', 'MH370', 'Aircraft', 'debris', 'found', 'on', 'La', 'Reunion', 'is', 'from', 'missing', 'Malaysia', 'Airlines', '...'], 1), (['Father-of-three', 'Lost', 'Control', 'of', 'Car', 'After', 'Overtaking', 'and', 'Collided', 'BathAndNorthEastSomerset'], 1), (['1.3', 'Earthquake', 'in', '9Km', 'Ssw', 'Of', 'Anza', 'California', 'iPhone', 'users', 'download', 'the', 'Earthquake', 'app', 'for', 'more', 'information'], 1), (['Evacuation', 'order', 'lifted', 'for', 'town', 'of', 'Roosevelt'], 1), (['breaking', 'LA', 'Refugio', 'oil', 'spill', 'may', 'have', 'been', 'costlier', 'bigger', 'than', 'projected'], 1), (['a', 'siren', 'just', 'went', 'off', 'and', 'it', 'wasnt', 'the', 'Forney', 'tornado', 'warning', '?', '?'], 1), (['Officials', 'say', 'a', 'quarantine', 'is', 'in', 'place', 'at', 'an', 'Alabama', 'home', 'over', 'a', 'possible', 'Ebola', 'case', 'after', 'developing', 'symptoms', '...'], 1), (['WorldNews', 'Fallen', 'powerlines', 'on', 'Glink', 'tram', 'UPDATE', 'FIRE', 'crews', 'have', 'evacuated', 'up', 'to', '30', 'passengers', 'who', 'were', 'tr', '...'], 1), (['on', 'the', 'flip', 'side', 'Im', 'at', 'Walmart', 'and', 'there', 'is', 'a', 'bomb', 'and', 'everyone', 'had', 'to', 'evacuate', 'so', 'stay', 'tuned', 'if', 'I', 'blow', 'up', 'or', 'not'], 1), (['Suicide', 'bomber', 'kills', '15', 'in', 'Saudi', 'security', 'site', 'mosque', '-', 'Reuters', 'via', 'World', '-', 'Google', 'News', '-', 'Wall', '...'], 1), (['stormchase', 'Violent', 'Record', 'Breaking', 'EF-5', 'El', 'Reno', 'Oklahoma', 'Tornado', 'Nearly', 'Runs', 'Over', '...', '-'], 1), (['Two', 'giant', 'cranes', 'holding', 'a', 'bridge', 'collapse', 'into', 'nearby', 'homes'], 1), (['The', 'out', 'of', 'control', 'wild', 'fires', 'in', 'California', 'even', 'in', 'the', 'Northern', 'part', 'of', 'the', 'state', '.', 'Very', 'troubling', '.'], 1), (['M1.94', '[', '0104', 'UTC', ']', '?', '5km', 'S', 'of', 'Volcano', 'Hawaii', '.'], 1), (['Police', 'investigating', 'after', 'an', 'e-bike', 'collided', 'with', 'a', 'car', 'in', 'Little', 'Portugal', '.', 'E-bike', 'rider', 'suffered', 'serious', 'non-life', 'threatening', 'injuries', '.'], 1), (['The', 'Latest', 'More', 'Homes', 'Razed', 'by', 'Northern', 'California', 'Wildfire', '-', 'ABC', 'News'], 1)]\n"
    }
   ],
   "source": [
    "#turns the text and the target from the df into a list of tuples\n",
    "documents = []\n",
    "for index, row in train_df.iterrows():\n",
    "    # print(word_tokenize(row['text']), row['target'])\n",
    "    documents.append((word_tokenize(row['text']), row['target']))\n",
    "\n",
    "print(documents)\n"
   ]
  },
  {
   "cell_type": "code",
   "execution_count": 962,
   "metadata": {},
   "outputs": [
    {
     "output_type": "execute_result",
     "data": {
      "text/plain": "['How',\n 'the',\n 'West',\n 'was',\n 'burned',\n 'Thousands',\n 'of',\n 'wildfires',\n 'ablaze',\n 'in',\n 'California',\n 'alone']"
     },
     "metadata": {},
     "execution_count": 962
    }
   ],
   "source": [
    "word_tokenize(tweet_text[46])"
   ]
  },
  {
   "cell_type": "code",
   "execution_count": 963,
   "metadata": {},
   "outputs": [],
   "source": [
    "all_words = []    #p.11\n",
    "for tweet in train_df[\"text\"]:\n",
    "    tweet = tweet.split()\n",
    "    for word in tweet:\n",
    "        all_words.append(word.lower())\n"
   ]
  },
  {
   "cell_type": "code",
   "execution_count": 964,
   "metadata": {},
   "outputs": [
    {
     "output_type": "execute_result",
     "data": {
      "text/plain": "FreqDist({'the': 3233, 'a': 2139, 'in': 1949, 'to': 1933, 'of': 1813, 'and': 1400, 'i': 1348, 'is': 933, 'for': 882, 'on': 837, ...})"
     },
     "metadata": {},
     "execution_count": 964
    }
   ],
   "source": [
    "all_words = nltk.FreqDist(all_words)\n",
    "all_words"
   ]
  },
  {
   "cell_type": "code",
   "execution_count": 973,
   "metadata": {},
   "outputs": [],
   "source": [
    "word_features = list(all_words)[:500] #p.12"
   ]
  },
  {
   "cell_type": "code",
   "execution_count": 966,
   "metadata": {
    "tags": []
   },
   "outputs": [],
   "source": [
    "random.shuffle(documents)\n",
    "def find_features(documents):\n",
    "    words = set(documents)\n",
    "    features = {}\n",
    "    for w in word_features:\n",
    "        features[w] = (w in words)\n",
    "    \n",
    "    return features\n",
    "\n",
    "# print((find_features(test_tweet_46)))"
   ]
  },
  {
   "cell_type": "code",
   "execution_count": 967,
   "metadata": {},
   "outputs": [],
   "source": [
    "# featuresets = [(find_features(rev), category) for (rev, category) in documents]"
   ]
  },
  {
   "cell_type": "code",
   "execution_count": 968,
   "metadata": {
    "tags": []
   },
   "outputs": [
    {
     "output_type": "stream",
     "name": "stdout",
     "text": "['plot', ':', 'two', 'teen', 'couples', 'go', 'to', ...]\n[nltk_data] Downloading package movie_reviews to\n[nltk_data]     C:\\Users\\Goutham\\AppData\\Roaming\\nltk_data...\n[nltk_data]   Package movie_reviews is already up-to-date!\n"
    }
   ],
   "source": [
    "from nltk.corpus import movie_reviews\n",
    "nltk.download('movie_reviews')\n",
    "\n",
    "# print((find_features(movie_reviews.words('neg/cv000_29416.txt'))))\n",
    "print(movie_reviews.words('neg/cv000_29416.txt'))"
   ]
  },
  {
   "cell_type": "code",
   "execution_count": 974,
   "metadata": {
    "tags": []
   },
   "outputs": [
    {
     "output_type": "execute_result",
     "data": {
      "text/plain": "{'the': True,\n 'a': False,\n 'in': True,\n 'to': False,\n 'of': True,\n 'and': False,\n 'i': False,\n 'is': False,\n 'for': False,\n 'on': False,\n '-': False,\n 'you': False,\n 'my': False,\n 'with': False,\n 'that': False,\n 'at': False,\n 'by': False,\n 'it': False,\n 'this': False,\n 'from': False,\n 'are': False,\n 'be': False,\n 'have': False,\n 'was': True,\n 'like': False,\n 'as': False,\n 'just': False,\n 'so': False,\n 'but': False,\n 'im': False,\n 'up': False,\n '&amp;': False,\n 'your': False,\n 'not': False,\n 'me': False,\n 'its': False,\n 'after': False,\n 'will': False,\n 'when': False,\n 'has': False,\n 'an': False,\n 'all': False,\n 'out': False,\n 'if': False,\n 'no': False,\n 'we': False,\n '??': False,\n 'get': False,\n 'fire': False,\n 'new': False,\n 'via': False,\n 'about': False,\n 'dont': False,\n 'more': False,\n 'or': False,\n 'they': False,\n 'been': False,\n 'what': False,\n 'he': False,\n 'how': False,\n 'now': False,\n 'over': False,\n 'one': False,\n 'people': False,\n 'who': False,\n 'into': False,\n 'news': False,\n 'do': False,\n 'can': False,\n 'emergency': False,\n '...': False,\n '2': False,\n 'were': False,\n 'video': False,\n '|': False,\n 'there': False,\n 'than': False,\n 'disaster': False,\n 'police': False,\n 'some': False,\n 'would': False,\n 'his': False,\n 'still': False,\n 'her': False,\n 'body': False,\n 'suicide': False,\n 'burning': False,\n 'why': False,\n 'got': False,\n 'crash': False,\n 'california': False,\n 'off': False,\n 'had': False,\n 'cant': False,\n 'first': False,\n 'back': False,\n 'us': False,\n 'know': False,\n 'nuclear': False,\n 'man': False,\n 'see': False,\n 'rt': False,\n 'going': False,\n 'storm': False,\n 'our': False,\n 'love': False,\n '????': False,\n 'two': False,\n 'killed': False,\n 'time': False,\n 'bomb': False,\n 'their': False,\n 'go': False,\n 'full': False,\n 'world': False,\n 'buildings': False,\n 'being': False,\n 'day': False,\n 'attack': False,\n 'may': False,\n '3': False,\n 'them': False,\n 'war': False,\n 'families': False,\n 'car': False,\n 'only': False,\n 'train': False,\n 'hiroshima': False,\n 'many': False,\n 'last': False,\n 'dead': False,\n 'say': False,\n 'think': False,\n 'could': False,\n 'watch': False,\n 'want': False,\n 'down': False,\n 'good': False,\n 'u': False,\n 'fires': False,\n 'make': False,\n 'here': False,\n 'did': False,\n 'accident': False,\n 'then': False,\n 'years': False,\n 'because': False,\n 'army': False,\n 'even': False,\n 'need': False,\n 'look': False,\n 'take': False,\n 'collapse': False,\n 'mass': False,\n 'youre': False,\n 'another': False,\n 'best': False,\n 'should': False,\n 'those': False,\n 'am': False,\n 'life': False,\n 'home': False,\n 'help': False,\n '.': False,\n 'really': False,\n 'way': False,\n 'too': False,\n 'bombing': False,\n 'hot': False,\n 'today': False,\n 'forest': False,\n 'death': False,\n 'work': False,\n 'mh370': False,\n 'pm': False,\n 'fatal': False,\n 'school': False,\n 'northern': False,\n 'obama': False,\n 'wildfire': False,\n 'legionnaires': False,\n 'bomber': False,\n '4': False,\n 'right': False,\n '5': False,\n 'never': False,\n 'she': False,\n 'let': False,\n 'homes': False,\n 'much': False,\n 'any': False,\n 'latest': False,\n 'water': False,\n 'great': False,\n 'thats': False,\n 'lol': False,\n 'atomic': False,\n 'every': False,\n '??????': False,\n 'old': False,\n 'getting': False,\n 'live': False,\n 'city': False,\n 'said': False,\n '_': False,\n 'year': False,\n 'read': False,\n 'please': False,\n 'where': False,\n 'feel': False,\n 'under': False,\n 'near': False,\n 'flood': False,\n 'top': False,\n 'content': False,\n 'oil': False,\n 'while': False,\n 'him': False,\n 'most': False,\n 'found': False,\n 'come': False,\n 'during': False,\n 'without': False,\n 'military': False,\n 'japan': False,\n 'fear': False,\n 'floods': False,\n 'flooding': False,\n 'before': False,\n 'debris': False,\n 'hope': False,\n 'malaysia': False,\n 'evacuation': False,\n 'coming': False,\n 'shit': False,\n 'stop': False,\n 'ever': False,\n '1': False,\n 'which': False,\n 'hit': False,\n 'since': False,\n 'earthquake': False,\n 'these': False,\n 'everyone': False,\n 'little': False,\n 'weather': False,\n 'wreck': False,\n 'ive': False,\n 'black': False,\n 'truck': False,\n 'injured': False,\n 'cross': False,\n 'confirmed': False,\n 'severe': False,\n 'set': False,\n 'state': False,\n 'cause': False,\n 'well': False,\n 'wild': False,\n 'flames': False,\n 'theres': False,\n 's': False,\n 'god': False,\n 'looks': False,\n 'hes': False,\n 'through': False,\n 'wounded': False,\n 'natural': False,\n 'reddit': False,\n 'smoke': False,\n 'always': False,\n 'fucking': False,\n 'bloody': False,\n 'face': False,\n 'liked': False,\n 'movie': False,\n 'heat': False,\n 'gonna': False,\n 'next': False,\n 'times': False,\n 'until': False,\n 'food': False,\n 'boy': False,\n 'warning': False,\n 'says': False,\n 'fall': False,\n 'damage': False,\n 'check': False,\n 'screaming': False,\n 'family': False,\n 'missing': False,\n 'spill': False,\n 'thunderstorm': False,\n 'thunder': False,\n 'night': False,\n 'free': False,\n 'whole': False,\n 'high': False,\n 'bad': False,\n 'released': False,\n 'collided': False,\n 'loud': False,\n 'lightning': False,\n 'someone': False,\n 'house': False,\n 'services': False,\n '70': False,\n 'also': False,\n 'save': False,\n 'attacked': False,\n 'evacuate': False,\n 'trapped': False,\n 'deaths': False,\n 'wreckage': False,\n 'outbreak': False,\n 'breaking': False,\n 'does': False,\n 'air': False,\n 'destroy': False,\n 'charged': False,\n 'saudi': False,\n 'keep': False,\n '/': False,\n 'sinking': False,\n 'head': False,\n 'explosion': False,\n 'end': False,\n 'ambulance': False,\n 'blood': False,\n 'survive': False,\n 'against': False,\n 'big': False,\n 'made': False,\n 'plan': False,\n 'derailment': False,\n 'failure': False,\n 'hurricane': False,\n 'migrants': False,\n 'wrecked': False,\n 'summer': False,\n 'it.': False,\n 'white': False,\n 'fuck': False,\n 'terrorist': False,\n 'put': False,\n 'bag': False,\n 'bridge': False,\n 'lives': False,\n 'survived': False,\n 'investigators': False,\n 'ruin': False,\n 'county': False,\n '?': False,\n 'ill': False,\n 'came': False,\n 'suspect': False,\n '2015': False,\n 'survivors': False,\n 'destruction': False,\n 'lets': False,\n 'saw': False,\n 'destroyed': False,\n 'real': False,\n 'story': False,\n 'weapon': False,\n 'boat': False,\n 'rescued': False,\n 'rescue': False,\n 'dust': False,\n 'engulfed': False,\n 'sinkhole': False,\n 'photo': False,\n 'bus': False,\n 'around': False,\n 'burned': True,\n 'horrible': False,\n 'island': False,\n 'call': False,\n 'run': False,\n 'kills': False,\n 'iran': False,\n 'national': False,\n 'id': False,\n 'violent': False,\n 'wanna': False,\n 'weapons': False,\n 'report': False,\n 'anniversary': False,\n 'injuries': False,\n 'stock': False,\n 'derail': False,\n 'drowning': False,\n 'screamed': False,\n 'quarantine': False,\n 'sandstorm': False,\n 'structural': False,\n 'rain': False,\n 'heard': False,\n 'murder': False,\n 'airplane': False,\n 'crashed': False,\n 'least': False,\n 'heart': False,\n 'long': False,\n 'show': False,\n 'girl': False,\n 'mosque': False,\n 'blew': False,\n 'wind': False,\n 'bags': False,\n 'rescuers': False,\n 'displaced': False,\n 'service': False,\n 'hazardous': False,\n 'riot': False,\n 'hundreds': False,\n 'devastation': False,\n 'hail': False,\n 'quarantined': False,\n 'twister': False,\n 'other': False,\n 'update': False,\n 'better': False,\n 'past': False,\n 'road': False,\n 'reunion': False,\n 'phone': False,\n 'must': False,\n 'went': False,\n 'red': False,\n 'post': False,\n 'group': False,\n 'fedex': False,\n 'blown': False,\n 'hazard': False,\n 'drought': False,\n 'catastrophic': False,\n 'affected': False,\n 'chemical': False,\n 'crush': False,\n 'detonate': False,\n 'fatalities': False,\n 'lava': False,\n 'sunk': False,\n '40': False,\n 'plane': False,\n 'part': False,\n 'woman': False,\n 'power': False,\n 'bioterror': False,\n 'tragedy': False,\n 'half': False,\n 'send': False,\n 'baby': False,\n 'harm': False,\n 'danger': False,\n 'deluge': False,\n 'demolish': False,\n 'demolition': False,\n 'hijacker': False,\n 'hostages': False,\n 'razed': False,\n 'wave': False,\n 'thank': False,\n 'injury': False,\n 'very': False,\n 'doing': False,\n 'trauma': False,\n 'thought': False,\n 'august': False,\n 'things': False,\n '15': False,\n 'battle': False,\n 'longer': False,\n 'oh': False,\n 'drown': False,\n 'land': False,\n 'u.s.': False,\n 'ass': False,\n 'bombed': False,\n 'pkk': False,\n 'caused': False,\n 'landslide': False,\n 'typhoon': False,\n 'refugees': False,\n 'famine': False,\n 'flattened': False,\n 'hijacking': False,\n 'inundated': False,\n 'detonated': False,\n 'due': False,\n 'cool': False,\n 'used': False,\n 'didnt': False,\n 'thing': False,\n 'goes': False,\n '+': False,\n 'use': False,\n 'ebay': False,\n 'game': False}"
     },
     "metadata": {},
     "execution_count": 974
    }
   ],
   "source": [
    "# print(movie_reviews.words('neg/cv000_29416.txt'))\n",
    "# print((find_features(movie_reviews.words('neg/cv000_29416.txt'))))\n",
    "# find_features(['a','the'])****\n",
    "\n",
    "find_features(test_tweet_46)\n",
    "\n"
   ]
  },
  {
   "cell_type": "code",
   "execution_count": 970,
   "metadata": {
    "tags": []
   },
   "outputs": [
    {
     "output_type": "execute_result",
     "data": {
      "text/plain": "['How',\n 'the',\n 'West',\n 'was',\n 'burned',\n 'Thousands',\n 'of',\n 'wildfires',\n 'ablaze',\n 'in',\n 'California',\n 'alone']"
     },
     "metadata": {},
     "execution_count": 970
    }
   ],
   "source": [
    "test_tweet_46"
   ]
  },
  {
   "cell_type": "code",
   "execution_count": 971,
   "metadata": {},
   "outputs": [
    {
     "output_type": "execute_result",
     "data": {
      "text/plain": "['How',\n 'the',\n 'West',\n 'was',\n 'burned',\n 'Thousands',\n 'of',\n 'wildfires',\n 'ablaze',\n 'in',\n 'California',\n 'alone']"
     },
     "metadata": {},
     "execution_count": 971
    }
   ],
   "source": [
    "# list(all_words)[:3000]\n",
    "test_tweet_46"
   ]
  },
  {
   "cell_type": "code",
   "execution_count": 972,
   "metadata": {},
   "outputs": [
    {
     "output_type": "execute_result",
     "data": {
      "text/plain": "['the',\n 'a',\n 'in',\n 'to',\n 'of',\n 'and',\n 'i',\n 'is',\n 'for',\n 'on',\n '-',\n 'you',\n 'my',\n 'with',\n 'that',\n 'at',\n 'by',\n 'it',\n 'this',\n 'from',\n 'are',\n 'be',\n 'have',\n 'was',\n 'like',\n 'as',\n 'just',\n 'so',\n 'but',\n 'im']"
     },
     "metadata": {},
     "execution_count": 972
    }
   ],
   "source": [
    "# all_words.keys()\n",
    "list(all_words)[:30] "
   ]
  },
  {
   "cell_type": "code",
   "execution_count": null,
   "metadata": {},
   "outputs": [],
   "source": []
  },
  {
   "cell_type": "code",
   "execution_count": null,
   "metadata": {},
   "outputs": [],
   "source": []
  }
 ],
 "metadata": {
  "language_info": {
   "codemirror_mode": {
    "name": "ipython",
    "version": 3
   },
   "file_extension": ".py",
   "mimetype": "text/x-python",
   "name": "python",
   "nbconvert_exporter": "python",
   "pygments_lexer": "ipython3",
   "version": "3.6.10-final"
  },
  "orig_nbformat": 2,
  "kernelspec": {
   "name": "python361064bittensorconda7618e8e35f674d0785fe1695e5b86f5a",
   "display_name": "Python 3.6.10 64-bit ('tensor': conda)"
  }
 },
 "nbformat": 4,
 "nbformat_minor": 2
}