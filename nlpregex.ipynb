{
 "cells": [
  {
   "cell_type": "code",
   "execution_count": 11,
   "metadata": {},
   "outputs": [],
   "source": [
    "import pandas as pd \n",
    "import string\n",
    "import matplotlib.pyplot as plt\n",
    "from nltk.stem import PorterStemmer"
   ]
  },
  {
   "cell_type": "code",
   "execution_count": 12,
   "metadata": {},
   "outputs": [
    {
     "output_type": "execute_result",
     "data": {
      "text/plain": "   id keyword location                                               text  \\\n0   1     NaN      NaN  Our Deeds are the Reason of this #earthquake M...   \n1   4     NaN      NaN             Forest fire near La Ronge Sask. Canada   \n2   5     NaN      NaN  All residents asked to shelter in place are be...   \n3   6     NaN      NaN  13,000 people receive #wildfires evacuation or...   \n4   7     NaN      NaN  Just got sent this photo from Ruby #Alaska as ...   \n\n   target  \n0       1  \n1       1  \n2       1  \n3       1  \n4       1  ",
      "text/html": "<div>\n<style scoped>\n    .dataframe tbody tr th:only-of-type {\n        vertical-align: middle;\n    }\n\n    .dataframe tbody tr th {\n        vertical-align: top;\n    }\n\n    .dataframe thead th {\n        text-align: right;\n    }\n</style>\n<table border=\"1\" class=\"dataframe\">\n  <thead>\n    <tr style=\"text-align: right;\">\n      <th></th>\n      <th>id</th>\n      <th>keyword</th>\n      <th>location</th>\n      <th>text</th>\n      <th>target</th>\n    </tr>\n  </thead>\n  <tbody>\n    <tr>\n      <td>0</td>\n      <td>1</td>\n      <td>NaN</td>\n      <td>NaN</td>\n      <td>Our Deeds are the Reason of this #earthquake M...</td>\n      <td>1</td>\n    </tr>\n    <tr>\n      <td>1</td>\n      <td>4</td>\n      <td>NaN</td>\n      <td>NaN</td>\n      <td>Forest fire near La Ronge Sask. Canada</td>\n      <td>1</td>\n    </tr>\n    <tr>\n      <td>2</td>\n      <td>5</td>\n      <td>NaN</td>\n      <td>NaN</td>\n      <td>All residents asked to shelter in place are be...</td>\n      <td>1</td>\n    </tr>\n    <tr>\n      <td>3</td>\n      <td>6</td>\n      <td>NaN</td>\n      <td>NaN</td>\n      <td>13,000 people receive #wildfires evacuation or...</td>\n      <td>1</td>\n    </tr>\n    <tr>\n      <td>4</td>\n      <td>7</td>\n      <td>NaN</td>\n      <td>NaN</td>\n      <td>Just got sent this photo from Ruby #Alaska as ...</td>\n      <td>1</td>\n    </tr>\n  </tbody>\n</table>\n</div>"
     },
     "metadata": {},
     "execution_count": 12
    }
   ],
   "source": [
    "df = pd.read_csv('Data/manually_cleaned/train.csv')\n",
    "df.head()"
   ]
  },
  {
   "cell_type": "code",
   "execution_count": 13,
   "metadata": {},
   "outputs": [
    {
     "output_type": "execute_result",
     "data": {
      "text/plain": "  keyword                                               text  target\n0    none  Our Deeds are the Reason of this #earthquake M...       1\n1    none             Forest fire near La Ronge Sask. Canada       1\n2    none  All residents asked to shelter in place are be...       1\n3    none  13,000 people receive #wildfires evacuation or...       1\n4    none  Just got sent this photo from Ruby #Alaska as ...       1",
      "text/html": "<div>\n<style scoped>\n    .dataframe tbody tr th:only-of-type {\n        vertical-align: middle;\n    }\n\n    .dataframe tbody tr th {\n        vertical-align: top;\n    }\n\n    .dataframe thead th {\n        text-align: right;\n    }\n</style>\n<table border=\"1\" class=\"dataframe\">\n  <thead>\n    <tr style=\"text-align: right;\">\n      <th></th>\n      <th>keyword</th>\n      <th>text</th>\n      <th>target</th>\n    </tr>\n  </thead>\n  <tbody>\n    <tr>\n      <td>0</td>\n      <td>none</td>\n      <td>Our Deeds are the Reason of this #earthquake M...</td>\n      <td>1</td>\n    </tr>\n    <tr>\n      <td>1</td>\n      <td>none</td>\n      <td>Forest fire near La Ronge Sask. Canada</td>\n      <td>1</td>\n    </tr>\n    <tr>\n      <td>2</td>\n      <td>none</td>\n      <td>All residents asked to shelter in place are be...</td>\n      <td>1</td>\n    </tr>\n    <tr>\n      <td>3</td>\n      <td>none</td>\n      <td>13,000 people receive #wildfires evacuation or...</td>\n      <td>1</td>\n    </tr>\n    <tr>\n      <td>4</td>\n      <td>none</td>\n      <td>Just got sent this photo from Ruby #Alaska as ...</td>\n      <td>1</td>\n    </tr>\n  </tbody>\n</table>\n</div>"
     },
     "metadata": {},
     "execution_count": 13
    }
   ],
   "source": [
    "df.drop(['location', 'id'], axis=1, inplace=True)\n",
    "df.fillna('none', inplace=True)\n",
    "df.head()"
   ]
  },
  {
   "cell_type": "code",
   "execution_count": 14,
   "metadata": {},
   "outputs": [
    {
     "output_type": "execute_result",
     "data": {
      "text/plain": "  keyword                                               text  target\n0    none  Our Deeds are the Reason of this #earthquake M...       1\n1    none             Forest fire near La Ronge Sask. Canada       1\n2    none  All residents asked to shelter in place are be...       1\n3    none  13,000 people receive #wildfires evacuation or...       1\n4    none  Just got sent this photo from Ruby #Alaska as ...       1",
      "text/html": "<div>\n<style scoped>\n    .dataframe tbody tr th:only-of-type {\n        vertical-align: middle;\n    }\n\n    .dataframe tbody tr th {\n        vertical-align: top;\n    }\n\n    .dataframe thead th {\n        text-align: right;\n    }\n</style>\n<table border=\"1\" class=\"dataframe\">\n  <thead>\n    <tr style=\"text-align: right;\">\n      <th></th>\n      <th>keyword</th>\n      <th>text</th>\n      <th>target</th>\n    </tr>\n  </thead>\n  <tbody>\n    <tr>\n      <td>0</td>\n      <td>none</td>\n      <td>Our Deeds are the Reason of this #earthquake M...</td>\n      <td>1</td>\n    </tr>\n    <tr>\n      <td>1</td>\n      <td>none</td>\n      <td>Forest fire near La Ronge Sask. Canada</td>\n      <td>1</td>\n    </tr>\n    <tr>\n      <td>2</td>\n      <td>none</td>\n      <td>All residents asked to shelter in place are be...</td>\n      <td>1</td>\n    </tr>\n    <tr>\n      <td>3</td>\n      <td>none</td>\n      <td>13,000 people receive #wildfires evacuation or...</td>\n      <td>1</td>\n    </tr>\n    <tr>\n      <td>4</td>\n      <td>none</td>\n      <td>Just got sent this photo from Ruby #Alaska as ...</td>\n      <td>1</td>\n    </tr>\n  </tbody>\n</table>\n</div>"
     },
     "metadata": {},
     "execution_count": 14
    }
   ],
   "source": [
    "#Add back spaces in keywords\n",
    "keywords = df['keyword'].to_list()\n",
    "clean_keywords = [word.replace('%20', ' ') for word in keywords]\n",
    "df['keyword'] = clean_keywords\n",
    "df.head()"
   ]
  },
  {
   "cell_type": "code",
   "execution_count": 15,
   "metadata": {},
   "outputs": [
    {
     "output_type": "execute_result",
     "data": {
      "text/plain": "  keyword                                               text  target\n0    none  Our Deeds are the Reason of this #earthquake M...       1\n1    none             Forest fire near La Ronge Sask. Canada       1\n2    none  All residents asked to shelter in place are be...       1\n3    none  13,000 people receive #wildfires evacuation or...       1\n4    none  Just got sent this photo from Ruby #Alaska as ...       1",
      "text/html": "<div>\n<style scoped>\n    .dataframe tbody tr th:only-of-type {\n        vertical-align: middle;\n    }\n\n    .dataframe tbody tr th {\n        vertical-align: top;\n    }\n\n    .dataframe thead th {\n        text-align: right;\n    }\n</style>\n<table border=\"1\" class=\"dataframe\">\n  <thead>\n    <tr style=\"text-align: right;\">\n      <th></th>\n      <th>keyword</th>\n      <th>text</th>\n      <th>target</th>\n    </tr>\n  </thead>\n  <tbody>\n    <tr>\n      <td>0</td>\n      <td>none</td>\n      <td>Our Deeds are the Reason of this #earthquake M...</td>\n      <td>1</td>\n    </tr>\n    <tr>\n      <td>1</td>\n      <td>none</td>\n      <td>Forest fire near La Ronge Sask. Canada</td>\n      <td>1</td>\n    </tr>\n    <tr>\n      <td>2</td>\n      <td>none</td>\n      <td>All residents asked to shelter in place are be...</td>\n      <td>1</td>\n    </tr>\n    <tr>\n      <td>3</td>\n      <td>none</td>\n      <td>13,000 people receive #wildfires evacuation or...</td>\n      <td>1</td>\n    </tr>\n    <tr>\n      <td>4</td>\n      <td>none</td>\n      <td>Just got sent this photo from Ruby #Alaska as ...</td>\n      <td>1</td>\n    </tr>\n  </tbody>\n</table>\n</div>"
     },
     "metadata": {},
     "execution_count": 15
    }
   ],
   "source": [
    "data = df\n",
    "data.head()"
   ]
  },
  {
   "cell_type": "code",
   "execution_count": 16,
   "metadata": {},
   "outputs": [
    {
     "output_type": "execute_result",
     "data": {
      "text/plain": "  keyword                                               text  target  \\\n0    none  Our Deeds are the Reason of this earthquake Ma...       1   \n1    none             Forest fire near La Ronge Sask. Canada       1   \n2    none  All residents asked to shelter in place are be...       1   \n3    none  13,000 people receive wildfires evacuation ord...       1   \n4    none  Just got sent this photo from Ruby Alaska as s...       1   \n\n                hashtags mentions urls  \n0          [#earthquake]       []   []  \n1                     []       []   []  \n2                     []       []   []  \n3           [#wildfires]       []   []  \n4  [#Alaska, #wildfires]       []   []  ",
      "text/html": "<div>\n<style scoped>\n    .dataframe tbody tr th:only-of-type {\n        vertical-align: middle;\n    }\n\n    .dataframe tbody tr th {\n        vertical-align: top;\n    }\n\n    .dataframe thead th {\n        text-align: right;\n    }\n</style>\n<table border=\"1\" class=\"dataframe\">\n  <thead>\n    <tr style=\"text-align: right;\">\n      <th></th>\n      <th>keyword</th>\n      <th>text</th>\n      <th>target</th>\n      <th>hashtags</th>\n      <th>mentions</th>\n      <th>urls</th>\n    </tr>\n  </thead>\n  <tbody>\n    <tr>\n      <td>0</td>\n      <td>none</td>\n      <td>Our Deeds are the Reason of this earthquake Ma...</td>\n      <td>1</td>\n      <td>[#earthquake]</td>\n      <td>[]</td>\n      <td>[]</td>\n    </tr>\n    <tr>\n      <td>1</td>\n      <td>none</td>\n      <td>Forest fire near La Ronge Sask. Canada</td>\n      <td>1</td>\n      <td>[]</td>\n      <td>[]</td>\n      <td>[]</td>\n    </tr>\n    <tr>\n      <td>2</td>\n      <td>none</td>\n      <td>All residents asked to shelter in place are be...</td>\n      <td>1</td>\n      <td>[]</td>\n      <td>[]</td>\n      <td>[]</td>\n    </tr>\n    <tr>\n      <td>3</td>\n      <td>none</td>\n      <td>13,000 people receive wildfires evacuation ord...</td>\n      <td>1</td>\n      <td>[#wildfires]</td>\n      <td>[]</td>\n      <td>[]</td>\n    </tr>\n    <tr>\n      <td>4</td>\n      <td>none</td>\n      <td>Just got sent this photo from Ruby Alaska as s...</td>\n      <td>1</td>\n      <td>[#Alaska, #wildfires]</td>\n      <td>[]</td>\n      <td>[]</td>\n    </tr>\n  </tbody>\n</table>\n</div>"
     },
     "metadata": {},
     "execution_count": 16
    }
   ],
   "source": [
    "#Use Pandas and RegEx to copy hashtags, mentions, and urls and store them each in a list in each their separate columns\n",
    "data[\"hashtags\"] = data['text'].str.findall(r'([#]\\S+)')\n",
    "data[\"mentions\"] = data['text'].str.findall(r'([@]\\S+)')\n",
    "data[\"urls\"] = data['text'].str.findall(r'(http:\\/\\/\\S+)')\n",
    "#Effectively deletes mentions and urls with Pandas and Regex by replacing them with an empty string as they are probably not particularly useful in NLP for Tweets\n",
    "data[\"text\"] = data[\"text\"].str.replace('([@]\\S+)', '', regex=True) #deletes mentions\n",
    "data[\"text\"] = data[\"text\"].str.replace('((https?:\\/\\/)\\S+)', '', regex=True) #deletes URLs\n",
    "#Replaces the # symbol with an empty space to turn hashtags into regular words\n",
    "data[\"text\"] = data[\"text\"].str.replace('[#:\\n]', '', regex=True) #deletes the hashtage symbol only\n",
    "#Replaces non ASCII words and symbols like: Â‰Ã›Ã with blank spaces\n",
    "data[\"text\"] = data[\"text\"].str.replace('[^\\x00-\\x7F]+', '', regex=True) #deletes non English alphabet characters#Use Pandas and RegEx to copy hashtags, mentions, and urls and store them each in a list in each their separate columns\n",
    "data.head()"
   ]
  },
  {
   "cell_type": "code",
   "execution_count": 17,
   "metadata": {},
   "outputs": [
    {
     "output_type": "execute_result",
     "data": {
      "text/plain": "  keyword                                               text  target  \\\n0    none  our deeds are the reason of this earthquake ma...       1   \n1    none              forest fire near la ronge sask canada       1   \n2    none  all residents asked to shelter in place are be...       1   \n3    none  13000 people receive wildfires evacuation orde...       1   \n4    none  just got sent this photo from ruby alaska as s...       1   \n\n              hashtags mentions    urls  \n0         [earthquake]   [none]  [none]  \n1               [none]   [none]  [none]  \n2               [none]   [none]  [none]  \n3          [wildfires]   [none]  [none]  \n4  [alaska, wildfires]   [none]  [none]  ",
      "text/html": "<div>\n<style scoped>\n    .dataframe tbody tr th:only-of-type {\n        vertical-align: middle;\n    }\n\n    .dataframe tbody tr th {\n        vertical-align: top;\n    }\n\n    .dataframe thead th {\n        text-align: right;\n    }\n</style>\n<table border=\"1\" class=\"dataframe\">\n  <thead>\n    <tr style=\"text-align: right;\">\n      <th></th>\n      <th>keyword</th>\n      <th>text</th>\n      <th>target</th>\n      <th>hashtags</th>\n      <th>mentions</th>\n      <th>urls</th>\n    </tr>\n  </thead>\n  <tbody>\n    <tr>\n      <td>0</td>\n      <td>none</td>\n      <td>our deeds are the reason of this earthquake ma...</td>\n      <td>1</td>\n      <td>[earthquake]</td>\n      <td>[none]</td>\n      <td>[none]</td>\n    </tr>\n    <tr>\n      <td>1</td>\n      <td>none</td>\n      <td>forest fire near la ronge sask canada</td>\n      <td>1</td>\n      <td>[none]</td>\n      <td>[none]</td>\n      <td>[none]</td>\n    </tr>\n    <tr>\n      <td>2</td>\n      <td>none</td>\n      <td>all residents asked to shelter in place are be...</td>\n      <td>1</td>\n      <td>[none]</td>\n      <td>[none]</td>\n      <td>[none]</td>\n    </tr>\n    <tr>\n      <td>3</td>\n      <td>none</td>\n      <td>13000 people receive wildfires evacuation orde...</td>\n      <td>1</td>\n      <td>[wildfires]</td>\n      <td>[none]</td>\n      <td>[none]</td>\n    </tr>\n    <tr>\n      <td>4</td>\n      <td>none</td>\n      <td>just got sent this photo from ruby alaska as s...</td>\n      <td>1</td>\n      <td>[alaska, wildfires]</td>\n      <td>[none]</td>\n      <td>[none]</td>\n    </tr>\n  </tbody>\n</table>\n</div>"
     },
     "metadata": {},
     "execution_count": 17
    }
   ],
   "source": [
    "#Further text cleaning\n",
    "data['text'] = data['text'].str.lower()\n",
    "data['text'] = data['text'].str.translate(str.maketrans('', '', string.punctuation))\n",
    "data['text'] = data['text'].str.rstrip(\" \")\n",
    "data['text'] = data['text'].str.lstrip(\" \")\n",
    "#Lower Casing hashtags\n",
    "hashtags = data['hashtags'].tolist()\n",
    "lower_tags = []\n",
    "for list in hashtags:\n",
    "    new_list = []\n",
    "    if len(list) > 0:\n",
    "        for tag in list:\n",
    "            word = tag[1::]\n",
    "            lower_tag = word.lower()\n",
    "            new_list.append(lower_tag)\n",
    "    else:\n",
    "        new_list.append('none')\n",
    "    lower_tags.append(new_list)\n",
    "#Replacing null mentions and urls\n",
    "mentions = data['mentions'].tolist()\n",
    "clean_mentions = []\n",
    "for list in mentions:\n",
    "    if len(list) == 0:\n",
    "        clean_mentions.append(['none'])\n",
    "    else:\n",
    "        clean_mentions.append(list)\n",
    "urls = data['urls'].tolist()\n",
    "clean_urls = []\n",
    "for list in urls:\n",
    "    if len(list) == 0:\n",
    "        clean_urls.append(['none'])\n",
    "    else:\n",
    "        clean_urls.append(list)\n",
    "data['mentions'] = clean_mentions\n",
    "data['urls'] = clean_urls \n",
    "data['hashtags'] = lower_tags\n",
    "data.head()"
   ]
  },
  {
   "cell_type": "code",
   "execution_count": 18,
   "metadata": {},
   "outputs": [],
   "source": [
    "contractions = {\n",
    "\"<3\": \"love\", \n",
    "\"aint\": \"am not\",\n",
    "\"arent\": \"are not\",\n",
    "\"cant\": \"cannot\",\n",
    "\"cantve\": \"cannot have\",\n",
    "\"cause\": \"because\",\n",
    "\"cuz\": \"because\",\n",
    "\"couldve\": \"could have\",\n",
    "\"couldnt\": \"could not\",\n",
    "\"couldntve\": \"could not have\",\n",
    "\"didnt\": \"did not\",\n",
    "\"doesnt\": \"does not\",\n",
    "\"dont\": \"do not\",\n",
    "\"hadnt\": \"had not\",\n",
    "\"hadntve\": \"had not have\",\n",
    "\"hasnt\": \"has not\",\n",
    "\"havent\": \"have not\",\n",
    "\"hed\": \"he would\",\n",
    "\"hedve\": \"he would have\",\n",
    "\"hell\": \"he will\",\n",
    "\"hes\": \"he is\",\n",
    "\"howd\": \"how did\",\n",
    "\"howll\": \"how will\",\n",
    "\"hows\": \"how is\",\n",
    "\"id\": \"i would\",\n",
    "\"ill\": \"i will\",\n",
    "\"im\": \"i am\",\n",
    "\"ive\": \"i have\",\n",
    "\"isnt\": \"is not\",\n",
    "\"itd\": \"it would\",\n",
    "\"itll\": \"it will\",\n",
    "\"its\": \"it is\",\n",
    "\"lets\": \"let us\",\n",
    "\"luv\": \"love\",\n",
    "\"maam\": \"madam\",\n",
    "\"maynt\": \"may not\",\n",
    "\"mightve\": \"might have\",\n",
    "\"mightnt\": \"might not\",\n",
    "\"mustve\": \"must have\",\n",
    "\"mustnt\": \"must not\",\n",
    "\"neednt\": \"need not\",\n",
    "\"oughtnt\": \"ought not\",\n",
    "\"shant\": \"shall not\",\n",
    "\"shant\": \"shall not\",\n",
    "\"shed\": \"she would\",\n",
    "\"shell\": \"she will\",\n",
    "\"shes\": \"she is\",\n",
    "\"shouldve\": \"should have\",\n",
    "\"shouldnt\": \"should not\",\n",
    "\"thatd\": \"that would\",\n",
    "\"thats\": \"that is\",\n",
    "\"thered\": \"there had\",\n",
    "\"theres\": \"there is\",\n",
    "\"theyd\": \"they would\",\n",
    "\"theyll\": \"they will\",\n",
    "\"theyre\": \"they are\",\n",
    "\"theyve\": \"they have\",\n",
    "\"w/\": \"with\",\n",
    "\"w/o\": \"without\",\n",
    "\"wasnt\": \"was not\",\n",
    "\"wat\": \"what\",\n",
    "\"wed\": \"we would\",\n",
    "\"well\": \"we will\",\n",
    "\"were\": \"we are\",\n",
    "\"weve\": \"we have\",\n",
    "\"werent\": \"were not\",\n",
    "\"whatll\": \"what will\",\n",
    "\"whatre\": \"what are\",\n",
    "\"whats\": \"what is\",\n",
    "\"whatve\": \"what have\",\n",
    "\"whered\": \"where did\",\n",
    "\"wheres\": \"where is\",\n",
    "\"wholl\": \"who will\",\n",
    "\"whos\": \"who is\",\n",
    "\"wont\": \"will not\",\n",
    "\"wouldnt\": \"would not\",\n",
    "\"youd\": \"you would\",\n",
    "\"youll\": \"you will\",\n",
    "\"youre\": \"you are\",\n",
    "\"thx\"   : \"thanks\"\n",
    "}"
   ]
  },
  {
   "cell_type": "code",
   "execution_count": 20,
   "metadata": {},
   "outputs": [
    {
     "output_type": "execute_result",
     "data": {
      "text/plain": "  keyword                                               text  target  \\\n0    none  our deed are the reason of thi earthquak may a...       1   \n1    none               forest fire near la rong sask canada       1   \n2    none  all resid ask to shelter in place are be notif...       1   \n3    none  13000 peopl receiv wildfir evacu order in cali...       1   \n4    none  just got sent thi photo from rubi alaska as sm...       1   \n\n              hashtags mentions    urls  \n0         [earthquake]   [none]  [none]  \n1               [none]   [none]  [none]  \n2               [none]   [none]  [none]  \n3          [wildfires]   [none]  [none]  \n4  [alaska, wildfires]   [none]  [none]  ",
      "text/html": "<div>\n<style scoped>\n    .dataframe tbody tr th:only-of-type {\n        vertical-align: middle;\n    }\n\n    .dataframe tbody tr th {\n        vertical-align: top;\n    }\n\n    .dataframe thead th {\n        text-align: right;\n    }\n</style>\n<table border=\"1\" class=\"dataframe\">\n  <thead>\n    <tr style=\"text-align: right;\">\n      <th></th>\n      <th>keyword</th>\n      <th>text</th>\n      <th>target</th>\n      <th>hashtags</th>\n      <th>mentions</th>\n      <th>urls</th>\n    </tr>\n  </thead>\n  <tbody>\n    <tr>\n      <td>0</td>\n      <td>none</td>\n      <td>our deed are the reason of thi earthquak may a...</td>\n      <td>1</td>\n      <td>[earthquake]</td>\n      <td>[none]</td>\n      <td>[none]</td>\n    </tr>\n    <tr>\n      <td>1</td>\n      <td>none</td>\n      <td>forest fire near la rong sask canada</td>\n      <td>1</td>\n      <td>[none]</td>\n      <td>[none]</td>\n      <td>[none]</td>\n    </tr>\n    <tr>\n      <td>2</td>\n      <td>none</td>\n      <td>all resid ask to shelter in place are be notif...</td>\n      <td>1</td>\n      <td>[none]</td>\n      <td>[none]</td>\n      <td>[none]</td>\n    </tr>\n    <tr>\n      <td>3</td>\n      <td>none</td>\n      <td>13000 peopl receiv wildfir evacu order in cali...</td>\n      <td>1</td>\n      <td>[wildfires]</td>\n      <td>[none]</td>\n      <td>[none]</td>\n    </tr>\n    <tr>\n      <td>4</td>\n      <td>none</td>\n      <td>just got sent thi photo from rubi alaska as sm...</td>\n      <td>1</td>\n      <td>[alaska, wildfires]</td>\n      <td>[none]</td>\n      <td>[none]</td>\n    </tr>\n  </tbody>\n</table>\n</div>"
     },
     "metadata": {},
     "execution_count": 20
    }
   ],
   "source": [
    "#Clean tweet text\n",
    "#Set a variable to call the Porter Stemmer algorithm\n",
    "porter = PorterStemmer()\n",
    "tweets = data['text'].tolist()\n",
    "no_contractions = []\n",
    "for tweet in tweets:\n",
    "    #Set tweet to list of words for individualized cleaning\n",
    "    words = tweet.split(\" \")\n",
    "    clean_words = []\n",
    "    for word in words:\n",
    "        if word in contractions.keys():\n",
    "            clean_words.append(contractions[word])\n",
    "        else:\n",
    "            clean_words.append(word)\n",
    "    stemmed_words = [porter.stem(word) for word in clean_words]\n",
    "    no_contractions.append(\" \".join(stemmed_words))\n",
    "data['text'] = no_contractions\n",
    "data.head() "
   ]
  },
  {
   "cell_type": "code",
   "execution_count": 21,
   "metadata": {},
   "outputs": [],
   "source": [
    "data.to_csv('Data/manually_cleaned/train_regex_3.0.csv')"
   ]
  },
  {
   "cell_type": "code",
   "execution_count": null,
   "metadata": {},
   "outputs": [],
   "source": []
  }
 ],
 "metadata": {
  "language_info": {
   "codemirror_mode": {
    "name": "ipython",
    "version": 3
   },
   "file_extension": ".py",
   "mimetype": "text/x-python",
   "name": "python",
   "nbconvert_exporter": "python",
   "pygments_lexer": "ipython3",
   "version": 3
  },
  "orig_nbformat": 2,
  "kernelspec": {
   "name": "python_defaultSpec_1595513576119",
   "display_name": "Python 3.7.4 64-bit ('base': conda)"
  }
 },
 "nbformat": 4,
 "nbformat_minor": 2
}